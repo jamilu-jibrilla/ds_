{
 "cells": [
  {
   "cell_type": "code",
   "execution_count": 36,
   "metadata": {},
   "outputs": [],
   "source": [
    "import pandas as pd\n",
    "\n",
    "import pandas as pd\n",
    "for encoding in ['utf-8', 'latin-1', 'windows-1252']:\n",
    "    try:\n",
    "        df = pd.read_csv('./fraudTest.csv', encoding=encoding)\n",
    "        break \n",
    "    except UnicodeDecodeError:\n",
    "        pass\n",
    "\n",
    "df['trans_date_trans_time'] = pd.to_datetime(df['trans_date_trans_time'])\n",
    "df['dob'] = pd.to_datetime(df['dob'])\n"
   ]
  },
  {
   "cell_type": "code",
   "execution_count": 70,
   "metadata": {},
   "outputs": [
    {
     "name": "stdout",
     "output_type": "stream",
     "text": [
      "        amt_n\n",
      "0         186\n",
      "1        2884\n",
      "2        4028\n",
      "3        5905\n",
      "4         219\n",
      "...       ...\n",
      "555714   4277\n",
      "555715  11084\n",
      "555716   8588\n",
      "555717    699\n",
      "555718   3713\n",
      "\n",
      "[555719 rows x 1 columns]\n"
     ]
    }
   ],
   "source": [
    "selected_features = [\n",
    " 'cc_num', 'trans_date_trans_time', 'merchant','amt', \n",
    "    'first', 'last', 'gender', 'street', 'city', 'state', 'zip', 'lat', \n",
    "    'long', 'city_pop', 'job', 'dob', 'trans_num', 'unix_time', \n",
    "    'merch_lat', 'merch_long'\n",
    "]\n",
    "\n",
    "\n",
    "target_variable = 'is_fraud'\n",
    "\n",
    "features = selected_df = df[selected_features]\n",
    "target = selected_df = df[target_variable]\n",
    "\n",
    "from sklearn.preprocessing import LabelEncoder\n",
    "\n",
    "encoded_df = pd.DataFrame()\n",
    "\n",
    "label_encoders = {}\n",
    "\n",
    "for col in selected_features:\n",
    "    label_encoders[col] = LabelEncoder()\n",
    "    encoded_df[col+\"_n\"] = label_encoders[col].fit_transform(df[col])\n",
    "\n",
    "print(encoded_df)"
   ]
  },
  {
   "cell_type": "code",
   "execution_count": 71,
   "metadata": {},
   "outputs": [
    {
     "name": "stdout",
     "output_type": "stream",
     "text": [
      "Training Accuracy: 0.998639149749761\n",
      "Test Accuracy: 0.9951594328078889\n"
     ]
    }
   ],
   "source": [
    "from sklearn.model_selection import train_test_split\n",
    "from sklearn.tree import DecisionTreeClassifier\n",
    "from sklearn.metrics import accuracy_score\n",
    "\n",
    "X_train, X_test, y_train, y_test = train_test_split(encoded_df, target, test_size=0.2, random_state=42)\n",
    "\n",
    "clf = DecisionTreeClassifier()\n",
    "clf.fit(X_train, y_train)\n",
    "\n",
    "y_pred_train = clf.predict(X_train)\n",
    "train_accuracy = accuracy_score(y_train, y_pred_train)\n",
    "print(\"Training Accuracy:\", train_accuracy)\n",
    "\n",
    "y_pred_test = clf.predict(X_test)\n",
    "test_accuracy = accuracy_score(y_test, y_pred_test)\n",
    "print(\"Test Accuracy:\", test_accuracy)\n"
   ]
  },
  {
   "cell_type": "code",
   "execution_count": 74,
   "metadata": {},
   "outputs": [
    {
     "name": "stdout",
     "output_type": "stream",
     "text": [
      " * Serving Flask app '__main__'\n",
      " * Debug mode: off\n"
     ]
    },
    {
     "name": "stderr",
     "output_type": "stream",
     "text": [
      "WARNING: This is a development server. Do not use it in a production deployment. Use a production WSGI server instead.\n",
      " * Running on http://127.0.0.1:5000\n",
      "Press CTRL+C to quit\n"
     ]
    },
    {
     "name": "stderr",
     "output_type": "stream",
     "text": [
      "c:\\Users\\Admin\\AppData\\Local\\Programs\\Python\\Python312\\Lib\\site-packages\\sklearn\\preprocessing\\_label.py:132: DataConversionWarning: A column-vector y was passed when a 1d array was expected. Please change the shape of y to (n_samples, ), for example using ravel().\n",
      "  y = column_or_1d(y, dtype=self.classes_.dtype, warn=True)\n",
      "127.0.0.1 - - [06/Apr/2024 03:50:00] \"POST /predict_fraud HTTP/1.1\" 200 -\n",
      "c:\\Users\\Admin\\AppData\\Local\\Programs\\Python\\Python312\\Lib\\site-packages\\sklearn\\preprocessing\\_label.py:132: DataConversionWarning: A column-vector y was passed when a 1d array was expected. Please change the shape of y to (n_samples, ), for example using ravel().\n",
      "  y = column_or_1d(y, dtype=self.classes_.dtype, warn=True)\n",
      "127.0.0.1 - - [06/Apr/2024 03:58:50] \"POST /predict_fraud HTTP/1.1\" 200 -\n"
     ]
    }
   ],
   "source": [
    "from flask import Flask, request, jsonify\n",
    "\n",
    "app = Flask(__name__)\n",
    "\n",
    "@app.route('/predict_fraud', methods=['POST'])\n",
    "def predict_fraud():\n",
    "    predict = request.json\n",
    "    data = pd.DataFrame([predict])\n",
    "\n",
    "    data['user_id'] = label_encoders['gender'].transform([data['user_id']])[0]\n",
    "    data['age'] = label_encoders['dob'].transform([data['age']])[0]\n",
    "    data['bday'] = label_encoders['dob'].transform([data['bday']])[0]\n",
    "    data['sex'] = label_encoders['gender'].transform([data['sex']])[0]\n",
    "    data['user_blocked'] = label_encoders['sex'].transform([data['sex']])[0]\n",
    "    data['user_registration_datetime'] = label_encoders['trans_date_trans_time'].transform([data['user_registration_datetime']])[0]\n",
    "    data['deposit_id'] = label_encoders['sex'].transform([data['sex']])[0]\n",
    "    data['transaction_date'] = label_encoders['trans_date_trans_time'].transform([data['transaction_date']])[0]\n",
    "    data['type'] = label_encoders['dob'].transform([data['type']])[0]\n",
    "    data['amt_n'] = label_encoders['amt'].transform([data['total_amount']])[0]\n",
    "    data['in'] = label_encoders['type'].inverse_transform([data['']])[0]\n",
    "    \n",
    "    newdata = data.drop([\"total_amount\", \"total_amount\", \"age\", \"bday\", \"sex\", \"user_blocked\", \"user_registration_datetime\", \"user_registration_ip\", \"deposit_id\", \"transaction_date\", \"type\", \"in\",\"user_id\" ], axis=\"columns\")\n",
    "\n",
    "\n",
    "    prediction = clf.predict(newdata)\n",
    "    r = prediction[0]\n",
    "    if r == 0:\n",
    "        return jsonify({\"answer\": 'non fraudulent'})\n",
    "    else:\n",
    "        return jsonify({\"answer\": 'fraudulent'})\n",
    "\n",
    "if __name__ == '__main__':\n",
    "    app.run()\n"
   ]
  }
 ],
 "metadata": {
  "kernelspec": {
   "display_name": "Python 3",
   "language": "python",
   "name": "python3"
  },
  "language_info": {
   "codemirror_mode": {
    "name": "ipython",
    "version": 3
   },
   "file_extension": ".py",
   "mimetype": "text/x-python",
   "name": "python",
   "nbconvert_exporter": "python",
   "pygments_lexer": "ipython3",
   "version": "3.12.2"
  }
 },
 "nbformat": 4,
 "nbformat_minor": 2
}
