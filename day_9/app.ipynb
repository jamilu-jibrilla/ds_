{
 "cells": [
  {
   "cell_type": "code",
   "execution_count": null,
   "metadata": {},
   "outputs": [],
   "source": [
    "%pip install llama-index-agent-openai\n",
    "%pip install llama-index"
   ]
  },
  {
   "cell_type": "code",
   "execution_count": 54,
   "metadata": {},
   "outputs": [],
   "source": [
    "import os\n",
    "\n",
    "os .environ[\"OPENAI_API_KEY\"] = \"\"\n",
    "from llama_index.agent.openai import OpenAIAssistantAgent\n",
    "cfo_agent = OpenAIAssistantAgent.from_new(\n",
    "    name=\"CFO Agent\",\n",
    "    instructions=\"You are a personal financial assistant, here to provide insights and analysis on company financials. Always use the documnets provided to curate answers, dont rely on previous knowledge.\",\n",
    "    openai_tools=[{\"type\": \"retrieval\"}],\n",
    "    instructions_prefix=\"Please address me as CFO.\",\n",
    "    files=[\"./financial_stament_review.pdf\"],\n",
    "    verbose=True,\n",
    ")"
   ]
  },
  {
   "cell_type": "code",
   "execution_count": 16,
   "metadata": {},
   "outputs": [
    {
     "name": "stdout",
     "output_type": "stream",
     "text": [
      "The revenue for the year ending December 31, 2008, for Cadillac Ranch, Incorporated was $232,000 . If you need further information or have more questions, feel free to ask!\n"
     ]
    }
   ],
   "source": [
    "response = cfo_agent.chat(\n",
    "    \"what is revenue for the year 2008?\"\n",
    ")\n",
    "print(str(response))"
   ]
  },
  {
   "cell_type": "code",
   "execution_count": 52,
   "metadata": {},
   "outputs": [],
   "source": [
    "cmo_agent = OpenAIAssistantAgent.from_new(\n",
    "    name=\"CMO\",\n",
    "    instructions=\"Hello! you are a personal brand assistant, here to provide you with  expert branding and marketing insights!. Always use the documnets provided to curate answers, dont rely on previous knowledge.\",\n",
    "    openai_tools=[{\"type\": \"retrieval\"}],\n",
    "    instructions_prefix=\"Please address me as CMO.\",\n",
    "    files=[\"./Marketing.pdf\"],\n",
    "    verbose=True,\n",
    ")\n"
   ]
  },
  {
   "cell_type": "code",
   "execution_count": 53,
   "metadata": {},
   "outputs": [
    {
     "name": "stdout",
     "output_type": "stream",
     "text": [
      "The document titled \"Marketing.pdf\" is a campaign planning guide published in 2017 and it provides insights into the development of successful marketing campaigns for the arts and cultural sector. Here's a summary of the key points and marketing trends reflected in the guide:\n",
      "\n",
      "**Campaign Planning Essentials:** \n",
      "- Campaign plans are part of overall marketing strategies designed to promote specific products, performances, or services. They help organize ideas, identify target markets, and formulate effective messages.\n",
      "- These plans keep marketing efforts on track and provide a series of actions and targets to measure progress. They also aid in coordinating strategies between different stakeholders, such as artists and venues.\n",
      "\n",
      "**Case Studies:**\n",
      "- Northern Ballet's \"Cleopatra\": The campaign successfully sold £867,000 of tickets, surpassing its £832,000 target by integrating online, print, and press advertising with partnerships for events and packages.\n",
      "- Frozen Light's \"The Forest\": By working with venues to inform them about the show and its target audience, the company achieved full capacity for audiences with Profound and Multiple Learning Disabilities (PMLD) at 86% of performances.\n",
      "\n",
      "**Strategic Approaches:** \n",
      "- Successful campaigns are tailored to their specific target audience. This guide recommends using various tools to match audiences with the benefits of the event and to choose the most appropriate communication channels.\n",
      "- Notably, the guide talks about the importance of conveying the right information to different target groups. For families, it is crucial to provide reassurance that events are suitable and give a sense of what to expect in advance.\n",
      "\n",
      "**Action Plan:** \n",
      "- The action plan should contain detailed activities, timelines, and budget information. It should be precise, measurable, and subject to approval by relevant authorities within the organization.\n",
      "\n",
      "**Collaboration:**\n",
      "- Campaign sharing is advised, especially when dealing with touring shows where insights from different stages of the tour can be invaluable for local marketing efforts.\n",
      "\n",
      "**Inspiration:**\n",
      "- For further ideas and case studies, the guide suggests resources such as the CultureHive website, which provides a repository of marketing campaign case studies.\n",
      "\n",
      "These trends reflect a comprehensive, data-driven, and audience-centric approach to marketing campaigns, with a significant emphasis on collaboration, insight sharing, and clear communication of messages. The guide further underscores the importance of innovative partnerships and the anticipation of the audience's informational needs to engage them effectively.\n"
     ]
    }
   ],
   "source": [
    "new_response = cmo_agent.chat(\"summary of marketing trends of a year, could be any\")\n",
    "print(new_response)"
   ]
  },
  {
   "cell_type": "code",
   "execution_count": 25,
   "metadata": {},
   "outputs": [],
   "source": [
    "from llama_index.agent.openai import OpenAIAssistantAgent\n",
    "from llama_index.core import (\n",
    "    SimpleDirectoryReader,\n",
    "    VectorStoreIndex,\n",
    "    StorageContext,\n",
    "    load_index_from_storage,\n",
    ")\n",
    "\n",
    "from llama_index.core.tools import QueryEngineTool, ToolMetadata"
   ]
  },
  {
   "cell_type": "code",
   "execution_count": 44,
   "metadata": {},
   "outputs": [],
   "source": [
    "try:\n",
    "    storage_context = StorageContext.from_defaults(\n",
    "        persist_dir=\"./resume\"\n",
    "    )\n",
    "    resume_index = load_index_from_storage(storage_context)\n",
    "    index_loaded = True\n",
    "except:\n",
    "    index_loaded = False"
   ]
  },
  {
   "cell_type": "code",
   "execution_count": 45,
   "metadata": {},
   "outputs": [
    {
     "name": "stdout",
     "output_type": "stream",
     "text": [
      "True\n"
     ]
    }
   ],
   "source": [
    "print(index_loaded)"
   ]
  },
  {
   "cell_type": "code",
   "execution_count": 39,
   "metadata": {},
   "outputs": [],
   "source": [
    "if not index_loaded:\n",
    "    # load data\n",
    "    resume_data = SimpleDirectoryReader('./resume').load_data()\n",
    "\n",
    "    # build index\n",
    "    resume_index = VectorStoreIndex.from_documents(resume_data)\n",
    "\n",
    "    # persist index\n",
    "    resume_index.storage_context.persist(persist_dir=\"./resume\")\n"
   ]
  },
  {
   "cell_type": "code",
   "execution_count": 46,
   "metadata": {},
   "outputs": [],
   "source": [
    "engine = resume_index.as_query_engine(similarity_top_k=3)"
   ]
  },
  {
   "cell_type": "code",
   "execution_count": 47,
   "metadata": {},
   "outputs": [],
   "source": [
    "query_engine_tools = [\n",
    "    QueryEngineTool(\n",
    "        query_engine=engine,\n",
    "        metadata=ToolMetadata(\n",
    "            name=\"Recruiter\",\n",
    "            description=(\n",
    "                \"Recruiter, suggests best candidate for the roles need to be placed\"\n",
    "            ),\n",
    "        ),\n",
    "    )\n",
    "]"
   ]
  },
  {
   "cell_type": "code",
   "execution_count": 48,
   "metadata": {},
   "outputs": [],
   "source": [
    "agent = OpenAIAssistantAgent.from_new(\n",
    "    name=\"Recruiter\",\n",
    "    instructions=\"You are a recruiter, and can tell best candidate for the roles need to be placed\",\n",
    "    tools=query_engine_tools,\n",
    "    instructions_prefix=\"Please address the user as CEO.\",\n",
    "    verbose=True,\n",
    "    run_retrieve_sleep_time=1.0,\n",
    ")"
   ]
  },
  {
   "cell_type": "code",
   "execution_count": 51,
   "metadata": {},
   "outputs": [
    {
     "name": "stdout",
     "output_type": "stream",
     "text": [
      "=== Calling Function ===\n",
      "Calling function: Recruiter with args: {\"input\":\"jamilu\"}\n",
      "Got output: Jamilu Jibrilla is an Electrical & Electronics Engineering student from MAU who is passionate about learning new technologies, specializing in Web Development with a focus on Javascript and React. He has experience working as a Frontend Intern at HNG, where he collaborated on group projects, engaged in remote communication, and implemented designs. Currently, he is working as a Frontend web developer at Nearby Restaurants, Chopify, and on an Admin Dashboard project. His skills include HTML, CSS, Javascript, React, Tailwind CSS, Sass, and Redux.\n",
      "========================\n",
      "I have reviewed the resume for Jamilu Jibrilla, who is an Electrical & Electronics Engineering student at MAU with a passion for new technologies, particularly in the area of Web Development. He has specialized knowledge in JavaScript and React.\n",
      "\n",
      "Here are some highlighted details from his resume:\n",
      "\n",
      "- **Educational Background**: Studying Electrical & Electronics Engineering at MAU.\n",
      "- **Professional Experience**: Worked as a Frontend Intern at HNG where he participated in group projects, enhanced his remote communication skills, and executed design implementations.\n",
      "  \n",
      "Currently, Jamilu is employed as a Frontend Web Developer with experience in several projects:\n",
      "\n",
      "1. **Nearby Restaurants**: In this role, he likely works on developing and maintaining the frontend components of a platform designed to help users find restaurants near them.\n",
      "   \n",
      "2. **Chopify**: This might be a project related to e-commerce or food services, where he would be applying his frontend development skills to create interactive and user-friendly interfaces.\n",
      "   \n",
      "3. **Admin Dashboard Project**: This experience would involve creating a dashboard for administrators to manage and visualize data effectively.\n",
      "   \n",
      "- **Technical Skills**: He has proficiency in HTML, CSS, JavaScript, React, Tailwind CSS, Sass, and Redux, which are essential for modern frontend development.\n",
      "\n",
      "Jamilu Jibrilla has demonstrated a commitment to learning and applying web development skills effectively across various projects. His background seems to be quite robust for roles requiring frontend development expertise, particularly with JavaScript frameworks like React.\n"
     ]
    }
   ],
   "source": [
    "response = agent.chat(\"Tell me about the resume with name jamilu that is uploaded??\")\n",
    "print(response)"
   ]
  },
  {
   "cell_type": "code",
   "execution_count": 58,
   "metadata": {},
   "outputs": [
    {
     "ename": "TypeError",
     "evalue": "can only concatenate str (not \"AgentChatResponse\") to str",
     "output_type": "error",
     "traceback": [
      "\u001b[1;31m---------------------------------------------------------------------------\u001b[0m",
      "\u001b[1;31mTypeError\u001b[0m                                 Traceback (most recent call last)",
      "Cell \u001b[1;32mIn[58], line 3\u001b[0m\n\u001b[0;32m      1\u001b[0m cfo_feedback \u001b[38;5;241m=\u001b[39m cfo_agent\u001b[38;5;241m.\u001b[39mchat(\u001b[38;5;124m\"\u001b[39m\u001b[38;5;124mWhat qualities should we look for in a Product Manager?, in less less than 3 sentence.\u001b[39m\u001b[38;5;124m\"\u001b[39m)\n\u001b[0;32m      2\u001b[0m cmo_feedback \u001b[38;5;241m=\u001b[39m cmo_agent\u001b[38;5;241m.\u001b[39mchat(\u001b[38;5;124m\"\u001b[39m\u001b[38;5;124mWhat skills are essential for a successful Product Manager? in less less than 3 sentence.\u001b[39m\u001b[38;5;124m\"\u001b[39m)\n\u001b[1;32m----> 3\u001b[0m recruiter_candidates \u001b[38;5;241m=\u001b[39m agent\u001b[38;5;241m.\u001b[39mchat(\u001b[38;5;124;43m\"\u001b[39;49m\u001b[38;5;124;43mProvide a list of candidates for the Product Manager role. The following are recommendation from the CFO and CMO, consider their suggestions when deciding the right candidate. CFO:\u001b[39;49m\u001b[38;5;124;43m\"\u001b[39;49m\u001b[43m \u001b[49m\u001b[38;5;241;43m+\u001b[39;49m\u001b[43mcfo_feedback\u001b[49m \u001b[38;5;241m+\u001b[39m \u001b[38;5;124m\"\u001b[39m\u001b[38;5;124mCMO\u001b[39m\u001b[38;5;124m\"\u001b[39m\u001b[38;5;241m+\u001b[39mcmo_feedback )\n\u001b[0;32m      6\u001b[0m selected_candidate \u001b[38;5;241m=\u001b[39m recruiter_candidates\n\u001b[0;32m      9\u001b[0m \u001b[38;5;28mprint\u001b[39m(cfo_feedback)\n",
      "\u001b[1;31mTypeError\u001b[0m: can only concatenate str (not \"AgentChatResponse\") to str"
     ]
    }
   ],
   "source": [
    "cfo_feedback = cfo_agent.chat(\"What qualities should we look for in a Product Manager?, in less less than 3 sentence.\")\n",
    "cmo_feedback = cmo_agent.chat(\"What skills are essential for a successful Product Manager? in less less than 3 sentence.\")\n",
    "recruiter_candidates = agent.chat(\"Provide a list of candidates for the Product Manager role. The following are recommendation from the CFO and CMO, consider their suggestions when deciding the right candidate. CFO:\" +str(cfo_feedback) + \"CMO\"+str(cmo_feedback )\n",
    "\n",
    "\n",
    "selected_candidate = recruiter_candidates\n",
    "\n",
    "\n",
    "print(cfo_feedback)\n",
    "print(cmo_feedback)"
   ]
  },
  {
   "cell_type": "code",
   "execution_count": 57,
   "metadata": {},
   "outputs": [
    {
     "name": "stdout",
     "output_type": "stream",
     "text": [
      "It seems that the resume details provided earlier for Jamilu Jibrilla are focused on frontend web development and do not directly correlate to a Product Manager role. If you're looking for candidates suitable for a Product Manager position, we'll need to review different resumes or profiles that showcase experience in product management, strategic planning, and leadership.\n",
      "\n",
      "Since Jamilu's profile does not align with the Product Manager role, you may want to consider candidates with backgrounds that include:\n",
      "\n",
      "- Experience in leading cross-functional teams to deliver products.\n",
      "- Having a track record of successfully managing the full product lifecycle.\n",
      "- Being adept at market research, customer needs assessment, and competitive analysis.\n",
      "- Strong communication and stakeholder management skills.\n",
      "\n",
      "Please let me know if you have a pool of candidates to consider or if there are specific qualifications or experiences you are seeking for your Product Manager role. I can then assist you in identifying the most suitable candidates from that pool or provide guidance on the types of candidates to look for.\n"
     ]
    }
   ],
   "source": [
    "print(selected_candidate)"
   ]
  }
 ],
 "metadata": {
  "kernelspec": {
   "display_name": "Python 3",
   "language": "python",
   "name": "python3"
  },
  "language_info": {
   "codemirror_mode": {
    "name": "ipython",
    "version": 3
   },
   "file_extension": ".py",
   "mimetype": "text/x-python",
   "name": "python",
   "nbconvert_exporter": "python",
   "pygments_lexer": "ipython3",
   "version": "3.12.2"
  }
 },
 "nbformat": 4,
 "nbformat_minor": 2
}
