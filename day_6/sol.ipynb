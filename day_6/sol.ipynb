{
 "cells": [
  {
   "cell_type": "code",
   "execution_count": 1,
   "metadata": {},
   "outputs": [],
   "source": [
    "from sklearn.model_selection import train_test_split\n",
    "from sklearn.naive_bayes import GaussianNB\n",
    "from sklearn.metrics import accuracy_score\n",
    "from sklearn.pipeline import make_pipeline\n",
    "from sklearn.feature_extraction.text import CountVectorizer"
   ]
  },
  {
   "cell_type": "code",
   "execution_count": 2,
   "metadata": {},
   "outputs": [
    {
     "name": "stdout",
     "output_type": "stream",
     "text": [
      "           Name Gender\n",
      "0          Mary      F\n",
      "1         Annie      F\n",
      "2          Anna      F\n",
      "3      Margaret      F\n",
      "4         Helen      F\n",
      "...         ...    ...\n",
      "99995    Hallie      F\n",
      "99996     Jamie      F\n",
      "99997     Jayda      F\n",
      "99998     Jessa      F\n",
      "99999   Johanna      F\n",
      "\n",
      "[100000 rows x 2 columns]\n"
     ]
    }
   ],
   "source": [
    "import glob\n",
    "import pandas as pd\n",
    "\n",
    "text_files = glob.glob('data/*.txt')\n",
    "dfs = []\n",
    "\n",
    "for file in text_files:\n",
    "    df = pd.read_csv(file, sep=',', names=['Al','Gender', 'Dob', 'Name', 'Age'])\n",
    "    dfs.append(df)\n",
    "combined_df = pd.concat(dfs, ignore_index=True)\n",
    "combined_df = combined_df[['Name', 'Gender']]\n",
    "combined_df = combined_df[:100000]\n",
    "print(combined_df)"
   ]
  },
  {
   "cell_type": "code",
   "execution_count": 3,
   "metadata": {},
   "outputs": [
    {
     "name": "stdout",
     "output_type": "stream",
     "text": [
      "Accuracy: 0.9414\n"
     ]
    }
   ],
   "source": [
    "x = combined_df['Name']\n",
    "y = combined_df['Gender']\n",
    "\n",
    "X_train, X_test, y_train, y_test = train_test_split(x, y, test_size=0.2, random_state=42)\n",
    "vectorizer = CountVectorizer()\n",
    "\n",
    "model = make_pipeline(vectorizer, GaussianNB())\n",
    "\n",
    "\n",
    "X_train_dense = vectorizer.fit_transform(X_train).toarray()\n",
    "X_test_dense = vectorizer.transform(X_test).toarray()\n",
    "\n",
    "model = GaussianNB()\n",
    "model.fit(X_train_dense, y_train)\n",
    "\n",
    "y_pred = model.predict(X_test_dense)\n",
    "\n",
    "accuracy = accuracy_score(y_test, y_pred)\n",
    "print(\"Accuracy:\", accuracy)"
   ]
  },
  {
   "cell_type": "code",
   "execution_count": 7,
   "metadata": {},
   "outputs": [
    {
     "name": "stdout",
     "output_type": "stream",
     "text": [
      "Predicted gender for Moses: M\n",
      "Predicted gender for Emily: F\n",
      "Predicted gender for Michael: M\n"
     ]
    }
   ],
   "source": [
    "new_names = ['Moses', 'Emily', 'Michael']\n",
    "\n",
    "new_names_sparse = vectorizer.transform(new_names).toarray()\n",
    "\n",
    "predictions = model.predict(new_names_sparse)\n",
    "\n",
    "for name, prediction in zip(new_names, predictions):\n",
    "    print(f\"Predicted gender for {name}: {prediction}\")\n"
   ]
  },
  {
   "cell_type": "code",
   "execution_count": 8,
   "metadata": {},
   "outputs": [
    {
     "name": "stdout",
     "output_type": "stream",
     "text": [
      " * Serving Flask app '__main__'\n",
      " * Debug mode: off\n"
     ]
    },
    {
     "name": "stderr",
     "output_type": "stream",
     "text": [
      "WARNING: This is a development server. Do not use it in a production deployment. Use a production WSGI server instead.\n",
      " * Running on http://127.0.0.1:5000\n",
      "Press CTRL+C to quit\n",
      "127.0.0.1 - - [09/Apr/2024 00:48:51] \"POST /predict HTTP/1.1\" 200 -\n"
     ]
    },
    {
     "name": "stdout",
     "output_type": "stream",
     "text": [
      "['Success', 'Emily', 'Michael']\n"
     ]
    }
   ],
   "source": [
    "from flask import Flask, request, jsonify\n",
    "app = Flask(__name__)\n",
    "\n",
    "@app.route('/predict', methods=['POST'])\n",
    "def predict_gender():\n",
    "    data = request.get_json()\n",
    "    names = data.get('names', [])\n",
    "    \n",
    "    names_sparse = vectorizer.transform(names).toarray()\n",
    "\n",
    "    predictions = model.predict(names_sparse)\n",
    "\n",
    "    results = [{'name': name, 'gender': prediction} for name, prediction in zip(names, predictions)]\n",
    "\n",
    "    return jsonify(results)\n",
    "if __name__ == '__main__':\n",
    "    app.run()"
   ]
  }
 ],
 "metadata": {
  "kernelspec": {
   "display_name": "Python 3",
   "language": "python",
   "name": "python3"
  },
  "language_info": {
   "codemirror_mode": {
    "name": "ipython",
    "version": 3
   },
   "file_extension": ".py",
   "mimetype": "text/x-python",
   "name": "python",
   "nbconvert_exporter": "python",
   "pygments_lexer": "ipython3",
   "version": "3.12.2"
  }
 },
 "nbformat": 4,
 "nbformat_minor": 2
}
