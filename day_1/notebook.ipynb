{
 "cells": [
  {
   "cell_type": "markdown",
   "metadata": {},
   "source": [
    "# Task 1: NumPy and Pandas\n",
    "\n",
    "## Note:\n",
    "- You can install Anaconda or VS Code can detect and install dependencies (python, ipykernel, ...)\n",
    "\n",
    "- Make sure to comment your code for clarity.\n",
    "\n",
    "- You can use both NumPy and Pandas functions to accomplish the tasks.\n",
    "\n",
    "- Feel free to use additional libraries (matplotlib, seaborn, etc.) for data visualization.\n",
    "\n"
   ]
  },
  {
   "cell_type": "markdown",
   "metadata": {},
   "source": [
    "1. Install and import dependencies."
   ]
  },
  {
   "cell_type": "code",
   "execution_count": 2,
   "metadata": {},
   "outputs": [
    {
     "name": "stdout",
     "output_type": "stream",
     "text": [
      "Requirement already satisfied: pandas in c:\\users\\admin\\appdata\\local\\programs\\python\\python312\\lib\\site-packages (2.2.1)\n",
      "Requirement already satisfied: numpy<2,>=1.26.0 in c:\\users\\admin\\appdata\\local\\programs\\python\\python312\\lib\\site-packages (from pandas) (1.26.4)\n",
      "Requirement already satisfied: python-dateutil>=2.8.2 in c:\\users\\admin\\appdata\\local\\programs\\python\\python312\\lib\\site-packages (from pandas) (2.9.0.post0)\n",
      "Requirement already satisfied: pytz>=2020.1 in c:\\users\\admin\\appdata\\local\\programs\\python\\python312\\lib\\site-packages (from pandas) (2024.1)\n",
      "Requirement already satisfied: tzdata>=2022.7 in c:\\users\\admin\\appdata\\local\\programs\\python\\python312\\lib\\site-packages (from pandas) (2024.1)\n",
      "Requirement already satisfied: six>=1.5 in c:\\users\\admin\\appdata\\local\\programs\\python\\python312\\lib\\site-packages (from python-dateutil>=2.8.2->pandas) (1.16.0)\n",
      "Note: you may need to restart the kernel to use updated packages.\n"
     ]
    }
   ],
   "source": [
    "# install dependencies\n",
    "%pip install pandas\n"
   ]
  },
  {
   "cell_type": "markdown",
   "metadata": {},
   "source": [
    "2. Load the dataset into a Pandas DataFrame."
   ]
  },
  {
   "cell_type": "code",
   "execution_count": 3,
   "metadata": {},
   "outputs": [
    {
     "name": "stdout",
     "output_type": "stream",
     "text": [
      "      Id  Student_Age     Sex High_School_Type Scholarship Additional_Work  \\\n",
      "0   5001           21    Male            Other         50%             Yes   \n",
      "1   5002           20    Male            Other         50%             Yes   \n",
      "2   5003           21    Male            State         50%              No   \n",
      "3   5004           18  Female          Private         50%             Yes   \n",
      "4   5005           22    Male          Private         50%              No   \n",
      "..   ...          ...     ...              ...         ...             ...   \n",
      "82  5083           20    Male            State         75%             Yes   \n",
      "83  5084           21    Male            Other         50%              No   \n",
      "84  5085           24    Male            Other         50%             Yes   \n",
      "85  5086           18    Male            State        100%              No   \n",
      "86  5087           21    Male            State         75%              No   \n",
      "\n",
      "   Sports_activity Transportation  Weekly_Study_Hours Attendance Reading  \\\n",
      "0               No        Private                   0     Always     Yes   \n",
      "1               No        Private                   0     Always     Yes   \n",
      "2               No        Private                   2      Never      No   \n",
      "3               No            Bus                   2     Always      No   \n",
      "4               No            Bus                  12     Always     Yes   \n",
      "..             ...            ...                 ...        ...     ...   \n",
      "82              No            Bus                   2     Always     Yes   \n",
      "83              No        Private                  12     Always     Yes   \n",
      "84              No            Bus                  12     Always      No   \n",
      "85              No        Private                   2     Always     Yes   \n",
      "86              No        Private                   0      Never      No   \n",
      "\n",
      "   Notes Listening_in_Class Project_work Grade  Math_Score  English_Score  \\\n",
      "0    Yes                 No           No    AA          85             78   \n",
      "1     No                Yes          Yes    AA          90             82   \n",
      "2     No                 No          Yes    AA          75             80   \n",
      "3    Yes                 No           No    AA          88             72   \n",
      "4     No                Yes          Yes    AA          78             85   \n",
      "..   ...                ...          ...   ...         ...            ...   \n",
      "82    No                Yes           No    DD          70             72   \n",
      "83   Yes                 No          Yes    DD          75             78   \n",
      "84   Yes                 No           No    DD          70             72   \n",
      "85   Yes                Yes           No    CB          88             92   \n",
      "86    No                Yes          Yes    CC          75             78   \n",
      "\n",
      "    Science_Score  \n",
      "0            92.0  \n",
      "1            88.0  \n",
      "2            85.0  \n",
      "3            90.0  \n",
      "4            95.0  \n",
      "..            ...  \n",
      "82           68.0  \n",
      "83           70.0  \n",
      "84           68.0  \n",
      "85           78.0  \n",
      "86            NaN  \n",
      "\n",
      "[87 rows x 18 columns]\n"
     ]
    }
   ],
   "source": [
    "#import dependencies and load student.csv into a Pandas DataFrame\n",
    "import pandas as pd\n",
    "\n",
    "# Load the dataset into a Pandas DataFrame\n",
    "\n",
    "students = pd.read_csv(\"./student.csv\")"
   ]
  },
  {
   "cell_type": "markdown",
   "metadata": {},
   "source": [
    "3. Perform the following tasks:\n",
    "\n",
    "   a. Display the first 5 rows of the DataFrame.\n",
    "   \n",
    "   b. Show basic statistics for numerical columns (mean, std, min, max, etc.).\n",
    "   \n",
    "   c. Check for missing values in the dataset and handle them appropriately.\n",
    "   \n",
    "   d. Create a new column 'Total' representing the total marks obtained by each student.\n",
    "   \n",
    "   e. Calculate the percentage of marks for each student and add a new column 'Percentage' to the DataFrame.\n",
    "   \n",
    "   f. Identify and display the student(s) with the highest percentage.\n",
    "   \n",
    "   g. Create a new DataFrame containing only the students who scored above the average(mean) percentage."
   ]
  },
  {
   "cell_type": "code",
   "execution_count": 18,
   "metadata": {},
   "outputs": [
    {
     "name": "stdout",
     "output_type": "stream",
     "text": [
      "     Id  Student_Age     Sex High_School_Type Scholarship Additional_Work  \\\n",
      "0  5001           21    Male            Other         50%             Yes   \n",
      "1  5002           20    Male            Other         50%             Yes   \n",
      "2  5003           21    Male            State         50%              No   \n",
      "3  5004           18  Female          Private         50%             Yes   \n",
      "4  5005           22    Male          Private         50%              No   \n",
      "\n",
      "  Sports_activity Transportation  Weekly_Study_Hours Attendance Reading Notes  \\\n",
      "0              No        Private                   0     Always     Yes   Yes   \n",
      "1              No        Private                   0     Always     Yes    No   \n",
      "2              No        Private                   2      Never      No    No   \n",
      "3              No            Bus                   2     Always      No   Yes   \n",
      "4              No            Bus                  12     Always     Yes    No   \n",
      "\n",
      "  Listening_in_Class Project_work Grade  Math_Score  English_Score  \\\n",
      "0                 No           No    AA          85             78   \n",
      "1                Yes          Yes    AA          90             82   \n",
      "2                 No          Yes    AA          75             80   \n",
      "3                 No           No    AA          88             72   \n",
      "4                Yes          Yes    AA          78             85   \n",
      "\n",
      "   Science_Score  \n",
      "0           92.0  \n",
      "1           88.0  \n",
      "2           85.0  \n",
      "3           90.0  \n",
      "4           95.0  \n"
     ]
    }
   ],
   "source": [
    "# Display the first 5 rows of the DataFrame\n",
    "first_five = students[:5]\n",
    "print(first_five)"
   ]
  },
  {
   "cell_type": "code",
   "execution_count": 5,
   "metadata": {},
   "outputs": [
    {
     "name": "stdout",
     "output_type": "stream",
     "text": [
      "                Id  Student_Age  Weekly_Study_Hours  Math_Score  \\\n",
      "count    87.000000    87.000000           87.000000   87.000000   \n",
      "mean   5044.000000    20.011494            2.827586   77.873563   \n",
      "std      25.258662     2.054458            4.498596    9.074376   \n",
      "min    5001.000000    18.000000            0.000000   45.000000   \n",
      "25%    5022.500000    18.000000            0.000000   75.000000   \n",
      "50%    5044.000000    19.000000            0.000000   78.000000   \n",
      "75%    5065.500000    21.000000            2.000000   83.500000   \n",
      "max    5087.000000    26.000000           12.000000   92.000000   \n",
      "\n",
      "       English_Score  Science_Score  \n",
      "count      87.000000      86.000000  \n",
      "mean       78.850575      78.651163  \n",
      "std         7.706127       8.198662  \n",
      "min        50.000000      55.000000  \n",
      "25%        75.000000      70.000000  \n",
      "50%        80.000000      80.000000  \n",
      "75%        83.000000      85.000000  \n",
      "max        92.000000      95.000000  \n"
     ]
    }
   ],
   "source": [
    "# Display basic statistics for numerical columns\n",
    "statistics_summary = students.describe()\n",
    "print(statistics_summary)"
   ]
  },
  {
   "cell_type": "code",
   "execution_count": null,
   "metadata": {},
   "outputs": [],
   "source": []
  },
  {
   "cell_type": "code",
   "execution_count": 67,
   "metadata": {},
   "outputs": [
    {
     "name": "stdout",
     "output_type": "stream",
     "text": [
      "Id                    0\n",
      "Student_Age           0\n",
      "Sex                   0\n",
      "High_School_Type      0\n",
      "Scholarship           0\n",
      "Additional_Work       0\n",
      "Sports_activity       0\n",
      "Transportation        0\n",
      "Weekly_Study_Hours    0\n",
      "Attendance            0\n",
      "Reading               0\n",
      "Notes                 0\n",
      "Listening_in_Class    0\n",
      "Project_work          0\n",
      "Grade                 0\n",
      "Math_Score            0\n",
      "English_Score         0\n",
      "Science_Score         1\n",
      "total                 1\n",
      "percentage            1\n",
      "dtype: int64\n",
      "      Id  Student_Age     Sex High_School_Type Scholarship Additional_Work  \\\n",
      "0   5001           21    Male            Other         50%             Yes   \n",
      "1   5002           20    Male            Other         50%             Yes   \n",
      "2   5003           21    Male            State         50%              No   \n",
      "3   5004           18  Female          Private         50%             Yes   \n",
      "4   5005           22    Male          Private         50%              No   \n",
      "..   ...          ...     ...              ...         ...             ...   \n",
      "82  5083           20    Male            State         75%             Yes   \n",
      "83  5084           21    Male            Other         50%              No   \n",
      "84  5085           24    Male            Other         50%             Yes   \n",
      "85  5086           18    Male            State        100%              No   \n",
      "86  5087           21    Male            State         75%              No   \n",
      "\n",
      "   Sports_activity Transportation  Weekly_Study_Hours Attendance Reading  \\\n",
      "0               No        Private                   0     Always     Yes   \n",
      "1               No        Private                   0     Always     Yes   \n",
      "2               No        Private                   2      Never      No   \n",
      "3               No            Bus                   2     Always      No   \n",
      "4               No            Bus                  12     Always     Yes   \n",
      "..             ...            ...                 ...        ...     ...   \n",
      "82              No            Bus                   2     Always     Yes   \n",
      "83              No        Private                  12     Always     Yes   \n",
      "84              No            Bus                  12     Always      No   \n",
      "85              No        Private                   2     Always     Yes   \n",
      "86              No        Private                   0      Never      No   \n",
      "\n",
      "   Notes Listening_in_Class Project_work Grade  Math_Score  English_Score  \\\n",
      "0    Yes                 No           No    AA          85             78   \n",
      "1     No                Yes          Yes    AA          90             82   \n",
      "2     No                 No          Yes    AA          75             80   \n",
      "3    Yes                 No           No    AA          88             72   \n",
      "4     No                Yes          Yes    AA          78             85   \n",
      "..   ...                ...          ...   ...         ...            ...   \n",
      "82    No                Yes           No    DD          70             72   \n",
      "83   Yes                 No          Yes    DD          75             78   \n",
      "84   Yes                 No           No    DD          70             72   \n",
      "85   Yes                Yes           No    CB          88             92   \n",
      "86    No                Yes          Yes    CC          75             78   \n",
      "\n",
      "    Science_Score  total  percentage  \n",
      "0            92.0  255.0    1.259508  \n",
      "1            88.0  260.0    1.284204  \n",
      "2            85.0  240.0    1.185419  \n",
      "3            90.0  250.0    1.234812  \n",
      "4            95.0  258.0    1.274326  \n",
      "..            ...    ...         ...  \n",
      "82           68.0  210.0    1.037242  \n",
      "83           70.0  223.0    1.101452  \n",
      "84           68.0  210.0    1.037242  \n",
      "85           78.0  258.0    1.274326  \n",
      "86            0.0    0.0    0.000000  \n",
      "\n",
      "[87 rows x 20 columns]\n"
     ]
    }
   ],
   "source": [
    "# Check for missing values\n",
    "# print(students.shape)\n",
    "# print(students.dtypes)\n",
    "missing_values = students.isna().sum()\n",
    "print(missing_values)\n",
    "\n",
    "\n",
    "# Handle missing values (replace NaN with mean, median, or any preferred method)\n",
    "# For example, filling missing values with the mean\n",
    "filled_in = students.fillna(0)\n",
    "print(filled_in)\n"
   ]
  },
  {
   "cell_type": "code",
   "execution_count": 58,
   "metadata": {},
   "outputs": [
    {
     "name": "stdout",
     "output_type": "stream",
     "text": [
      "      Id  Student_Age     Sex High_School_Type Scholarship Additional_Work  \\\n",
      "0   5001           21    Male            Other         50%             Yes   \n",
      "1   5002           20    Male            Other         50%             Yes   \n",
      "2   5003           21    Male            State         50%              No   \n",
      "3   5004           18  Female          Private         50%             Yes   \n",
      "4   5005           22    Male          Private         50%              No   \n",
      "..   ...          ...     ...              ...         ...             ...   \n",
      "82  5083           20    Male            State         75%             Yes   \n",
      "83  5084           21    Male            Other         50%              No   \n",
      "84  5085           24    Male            Other         50%             Yes   \n",
      "85  5086           18    Male            State        100%              No   \n",
      "86  5087           21    Male            State         75%              No   \n",
      "\n",
      "   Sports_activity Transportation  Weekly_Study_Hours Attendance Reading  \\\n",
      "0               No        Private                   0     Always     Yes   \n",
      "1               No        Private                   0     Always     Yes   \n",
      "2               No        Private                   2      Never      No   \n",
      "3               No            Bus                   2     Always      No   \n",
      "4               No            Bus                  12     Always     Yes   \n",
      "..             ...            ...                 ...        ...     ...   \n",
      "82              No            Bus                   2     Always     Yes   \n",
      "83              No        Private                  12     Always     Yes   \n",
      "84              No            Bus                  12     Always      No   \n",
      "85              No        Private                   2     Always     Yes   \n",
      "86              No        Private                   0      Never      No   \n",
      "\n",
      "   Notes Listening_in_Class Project_work Grade  Math_Score  English_Score  \\\n",
      "0    Yes                 No           No    AA          85             78   \n",
      "1     No                Yes          Yes    AA          90             82   \n",
      "2     No                 No          Yes    AA          75             80   \n",
      "3    Yes                 No           No    AA          88             72   \n",
      "4     No                Yes          Yes    AA          78             85   \n",
      "..   ...                ...          ...   ...         ...            ...   \n",
      "82    No                Yes           No    DD          70             72   \n",
      "83   Yes                 No          Yes    DD          75             78   \n",
      "84   Yes                 No           No    DD          70             72   \n",
      "85   Yes                Yes           No    CB          88             92   \n",
      "86    No                Yes          Yes    CC          75             78   \n",
      "\n",
      "    Science_Score  total  percentage  \n",
      "0            92.0  255.0    1.437310  \n",
      "1            88.0  260.0    1.530341  \n",
      "2            85.0  240.0    1.201764  \n",
      "3            90.0  250.0    1.343714  \n",
      "4            95.0  258.0    1.484179  \n",
      "..            ...    ...         ...  \n",
      "82           68.0  210.0    0.807586  \n",
      "83           70.0  223.0    0.964946  \n",
      "84           68.0  210.0    0.807586  \n",
      "85           78.0  258.0    1.488039  \n",
      "86            NaN    NaN         NaN  \n",
      "\n",
      "[87 rows x 20 columns]\n"
     ]
    }
   ],
   "source": [
    "# Create a new column 'Total'\n",
    "students['total'] = students['Math_Score'] + students['English_Score'] + students['Science_Score'] \n",
    "print(students)"
   ]
  },
  {
   "cell_type": "code",
   "execution_count": 59,
   "metadata": {},
   "outputs": [
    {
     "name": "stdout",
     "output_type": "stream",
     "text": [
      "      Id  Student_Age     Sex High_School_Type Scholarship Additional_Work  \\\n",
      "0   5001           21    Male            Other         50%             Yes   \n",
      "1   5002           20    Male            Other         50%             Yes   \n",
      "2   5003           21    Male            State         50%              No   \n",
      "3   5004           18  Female          Private         50%             Yes   \n",
      "4   5005           22    Male          Private         50%              No   \n",
      "..   ...          ...     ...              ...         ...             ...   \n",
      "82  5083           20    Male            State         75%             Yes   \n",
      "83  5084           21    Male            Other         50%              No   \n",
      "84  5085           24    Male            Other         50%             Yes   \n",
      "85  5086           18    Male            State        100%              No   \n",
      "86  5087           21    Male            State         75%              No   \n",
      "\n",
      "   Sports_activity Transportation  Weekly_Study_Hours Attendance Reading  \\\n",
      "0               No        Private                   0     Always     Yes   \n",
      "1               No        Private                   0     Always     Yes   \n",
      "2               No        Private                   2      Never      No   \n",
      "3               No            Bus                   2     Always      No   \n",
      "4               No            Bus                  12     Always     Yes   \n",
      "..             ...            ...                 ...        ...     ...   \n",
      "82              No            Bus                   2     Always     Yes   \n",
      "83              No        Private                  12     Always     Yes   \n",
      "84              No            Bus                  12     Always      No   \n",
      "85              No        Private                   2     Always     Yes   \n",
      "86              No        Private                   0      Never      No   \n",
      "\n",
      "   Notes Listening_in_Class Project_work Grade  Math_Score  English_Score  \\\n",
      "0    Yes                 No           No    AA          85             78   \n",
      "1     No                Yes          Yes    AA          90             82   \n",
      "2     No                 No          Yes    AA          75             80   \n",
      "3    Yes                 No           No    AA          88             72   \n",
      "4     No                Yes          Yes    AA          78             85   \n",
      "..   ...                ...          ...   ...         ...            ...   \n",
      "82    No                Yes           No    DD          70             72   \n",
      "83   Yes                 No          Yes    DD          75             78   \n",
      "84   Yes                 No           No    DD          70             72   \n",
      "85   Yes                Yes           No    CB          88             92   \n",
      "86    No                Yes          Yes    CC          75             78   \n",
      "\n",
      "    Science_Score  total  percentage  \n",
      "0            92.0  255.0    1.259508  \n",
      "1            88.0  260.0    1.284204  \n",
      "2            85.0  240.0    1.185419  \n",
      "3            90.0  250.0    1.234812  \n",
      "4            95.0  258.0    1.274326  \n",
      "..            ...    ...         ...  \n",
      "82           68.0  210.0    1.037242  \n",
      "83           70.0  223.0    1.101452  \n",
      "84           68.0  210.0    1.037242  \n",
      "85           78.0  258.0    1.274326  \n",
      "86            NaN    NaN         NaN  \n",
      "\n",
      "[87 rows x 20 columns]\n"
     ]
    }
   ],
   "source": [
    "# Calculate Percentage and add a new column\n",
    "students['percentage'] = (students['total'] / students['total'].sum()) * 100 \n",
    "\n",
    "print(students)"
   ]
  },
  {
   "cell_type": "code",
   "execution_count": 68,
   "metadata": {},
   "outputs": [
    {
     "name": "stdout",
     "output_type": "stream",
     "text": [
      "Id                        5002\n",
      "Student_Age                 20\n",
      "Sex                       Male\n",
      "High_School_Type         Other\n",
      "Scholarship                50%\n",
      "Additional_Work            Yes\n",
      "Sports_activity             No\n",
      "Transportation         Private\n",
      "Weekly_Study_Hours           0\n",
      "Attendance              Always\n",
      "Reading                    Yes\n",
      "Notes                       No\n",
      "Listening_in_Class         Yes\n",
      "Project_work               Yes\n",
      "Grade                       AA\n",
      "Math_Score                  90\n",
      "English_Score               82\n",
      "Science_Score             88.0\n",
      "total                    260.0\n",
      "percentage            1.284204\n",
      "Name: 1, dtype: object\n"
     ]
    }
   ],
   "source": [
    "# Identify and display the student(s) with the highest percentage\n",
    "highest_percentage_student_index = students[\"percentage\"].idxmax()\n",
    "highest_percentage_student = students.loc[highest_percentage_student_index]\n",
    "print(highest_percentage_student)\n"
   ]
  },
  {
   "cell_type": "code",
   "execution_count": 69,
   "metadata": {},
   "outputs": [
    {
     "name": "stdout",
     "output_type": "stream",
     "text": [
      "      Id  Student_Age     Sex High_School_Type Scholarship Additional_Work  \\\n",
      "0   5001           21    Male            Other         50%             Yes   \n",
      "1   5002           20    Male            Other         50%             Yes   \n",
      "2   5003           21    Male            State         50%              No   \n",
      "3   5004           18  Female          Private         50%             Yes   \n",
      "4   5005           22    Male          Private         50%              No   \n",
      "5   5006           20    Male            State         50%              No   \n",
      "7   5008           18  Female            State         50%             Yes   \n",
      "10  5011           18  Female          Private         50%              No   \n",
      "13  5014           19  Female            State        100%              No   \n",
      "14  5015           26    Male            State         75%             Yes   \n",
      "15  5016           22    Male            State         50%              No   \n",
      "16  5017           18  Female            State        100%              No   \n",
      "17  5018           22    Male            State         50%              No   \n",
      "20  5021           18    Male            State        100%             Yes   \n",
      "21  5022           18    Male            State        100%              No   \n",
      "23  5024           25    Male            State         25%             Yes   \n",
      "25  5026           20    Male            State         50%              No   \n",
      "26  5027           20    Male            State         50%              No   \n",
      "27  5028           18    Male          Private         50%             Yes   \n",
      "31  5032           25    Male            State         50%             Yes   \n",
      "32  5033           19  Female            State         50%              No   \n",
      "33  5034           21  Female            State         50%             Yes   \n",
      "34  5035           18    Male          Private         50%              No   \n",
      "35  5036           18    Male          Private         75%              No   \n",
      "36  5037           19    Male            Other         75%             Yes   \n",
      "37  5038           20    Male            State         50%             Yes   \n",
      "38  5039           21    Male            State        100%              No   \n",
      "40  5041           18    Male          Private         50%              No   \n",
      "41  5042           24    Male            State         50%             Yes   \n",
      "43  5044           18    Male            State         50%              No   \n",
      "45  5046           18    Male            State         50%              No   \n",
      "49  5050           18    Male          Private         75%              No   \n",
      "50  5051           21    Male            State         50%              No   \n",
      "52  5053           22  Female            State         50%             Yes   \n",
      "55  5056           25    Male            State         50%             Yes   \n",
      "56  5057           20    Male            State         50%              No   \n",
      "59  5060           19    Male            State         50%              No   \n",
      "60  5061           19  Female            State         50%              No   \n",
      "64  5065           22    Male            Other        100%              No   \n",
      "65  5066           18    Male            State         50%              No   \n",
      "69  5070           21  Female            State         75%              No   \n",
      "72  5073           18    Male            State         50%              No   \n",
      "79  5080           19    Male            State         75%              No   \n",
      "80  5081           20  Female            State         50%             Yes   \n",
      "81  5082           24    Male            State         50%             Yes   \n",
      "85  5086           18    Male            State        100%              No   \n",
      "\n",
      "   Sports_activity Transportation  Weekly_Study_Hours Attendance Reading  \\\n",
      "0               No        Private                   0     Always     Yes   \n",
      "1               No        Private                   0     Always     Yes   \n",
      "2               No        Private                   2      Never      No   \n",
      "3               No            Bus                   2     Always      No   \n",
      "4               No            Bus                  12     Always     Yes   \n",
      "5               No        Private                   2     Always     Yes   \n",
      "7              Yes            Bus                   2  Sometimes      No   \n",
      "10              No        Private                  12  Sometimes      No   \n",
      "13              No        Private                   0     Always     Yes   \n",
      "14             Yes        Private                  12      Never      No   \n",
      "15              No        Private                   0     Always      No   \n",
      "16             Yes        Private                   0     Always     Yes   \n",
      "17              No        Private                   0     Always     Yes   \n",
      "20              No            Bus                   0      Never      No   \n",
      "21              No            Bus                   0      Never      No   \n",
      "23             Yes        Private                  12     Always     Yes   \n",
      "25              No            Bus                   0     Always      No   \n",
      "26             Yes            Bus                   0     Always     Yes   \n",
      "27              No        Private                   0     Always     Yes   \n",
      "31              No        Private                   0     Always      No   \n",
      "32              No        Private                   2     Always     Yes   \n",
      "33              No            Bus                   0     Always     Yes   \n",
      "34              No            Bus                   2     Always     Yes   \n",
      "35              No        Private                  12     Always     Yes   \n",
      "36              No            Bus                  12     Always     Yes   \n",
      "37             Yes            Bus                   2  Sometimes      No   \n",
      "38              No        Private                   0     Always     Yes   \n",
      "40              No        Private                   2     Always     Yes   \n",
      "41              No        Private                   2     Always      No   \n",
      "43              No            Bus                   0     Always     Yes   \n",
      "45              No            Bus                   8     Always     Yes   \n",
      "49              No        Private                   2      Never     Yes   \n",
      "50              No            Bus                   2  Sometimes     Yes   \n",
      "52              No        Private                   2     Always     Yes   \n",
      "55              No            Bus                   8     Always      No   \n",
      "56             Yes        Private                   0     Always     Yes   \n",
      "59             Yes            Bus                   0     Always     Yes   \n",
      "60              No        Private                  12  Sometimes     Yes   \n",
      "64              No        Private                   0     Always     Yes   \n",
      "65              No            Bus                  12     Always     Yes   \n",
      "69              No            Bus                   0     Always     Yes   \n",
      "72             Yes            Bus                   0     Always      No   \n",
      "79              No        Private                   0     Always     Yes   \n",
      "80              No            Bus                   0  Sometimes     Yes   \n",
      "81              No        Private                   0     Always      No   \n",
      "85              No        Private                   2     Always     Yes   \n",
      "\n",
      "   Notes Listening_in_Class Project_work Grade  Math_Score  English_Score  \\\n",
      "0    Yes                 No           No    AA          85             78   \n",
      "1     No                Yes          Yes    AA          90             82   \n",
      "2     No                 No          Yes    AA          75             80   \n",
      "3    Yes                 No           No    AA          88             72   \n",
      "4     No                Yes          Yes    AA          78             85   \n",
      "5     No                Yes          Yes    BA          92             88   \n",
      "7    Yes                Yes          Yes    BA          80             75   \n",
      "10    No                 No          Yes    BA          85             78   \n",
      "13    No                 No          Yes    AA          92             88   \n",
      "14    No                Yes          Yes    BA          75             80   \n",
      "15   Yes                 No          Yes    BA          80             75   \n",
      "16    No                 No           No    AA          88             92   \n",
      "17    No                 No          Yes    BA          82             84   \n",
      "20    No                Yes           No    AA          92             88   \n",
      "21    No                 No           No    AA          88             92   \n",
      "23   Yes                 No           No    AA          80             75   \n",
      "25   Yes                 No           No    BB          82             84   \n",
      "26   Yes                 No           No    AA          75             80   \n",
      "27   Yes                Yes           No    AA          90             82   \n",
      "31   Yes                 No           No    BB          85             88   \n",
      "32    No                 No          Yes    AA          88             92   \n",
      "33   Yes                 No           No    BA          78             85   \n",
      "34    No                Yes           No    BA          75             80   \n",
      "35   Yes                 No           No    AA          92             88   \n",
      "36   Yes                Yes          Yes    BA          80             75   \n",
      "37    No                Yes          Yes    AA          85             78   \n",
      "38    No                Yes          Yes    BA          75             80   \n",
      "40    No                Yes          Yes    AA          92             88   \n",
      "41   Yes                 No          Yes    AA          85             78   \n",
      "43    No                Yes           No    CB          80             82   \n",
      "45    No                Yes           No    BB          82             84   \n",
      "49    No                Yes          Yes    BA          75             80   \n",
      "50   Yes                Yes          Yes    AA          85             88   \n",
      "52   Yes                Yes           No    AA          88             92   \n",
      "55   Yes                Yes           No    BB          82             84   \n",
      "56   Yes                Yes           No    CC          75             80   \n",
      "59   Yes                 No           No    CC          88             92   \n",
      "60     6                Yes           No    BA          75             80   \n",
      "64    No                 No          Yes    BB          80             82   \n",
      "65    No                 No           No    BA          92             88   \n",
      "69    No                 No          Yes    CC          80             82   \n",
      "72   Yes                Yes          Yes    DC          75             80   \n",
      "79   Yes                Yes           No    BB          75             80   \n",
      "80   Yes                Yes          Yes    CB          85             88   \n",
      "81   Yes                 No           No    BB          82             84   \n",
      "85   Yes                Yes           No    CB          88             92   \n",
      "\n",
      "    Science_Score  total  percentage  \n",
      "0            92.0  255.0    1.259508  \n",
      "1            88.0  260.0    1.284204  \n",
      "2            85.0  240.0    1.185419  \n",
      "3            90.0  250.0    1.234812  \n",
      "4            95.0  258.0    1.274326  \n",
      "5            80.0  260.0    1.284204  \n",
      "7            85.0  240.0    1.185419  \n",
      "10           92.0  255.0    1.259508  \n",
      "13           80.0  260.0    1.284204  \n",
      "14           85.0  240.0    1.185419  \n",
      "15           85.0  240.0    1.185419  \n",
      "16           78.0  258.0    1.274326  \n",
      "17           88.0  254.0    1.254569  \n",
      "20           80.0  260.0    1.284204  \n",
      "21           78.0  258.0    1.274326  \n",
      "23           85.0  240.0    1.185419  \n",
      "25           88.0  254.0    1.254569  \n",
      "26           85.0  240.0    1.185419  \n",
      "27           88.0  260.0    1.284204  \n",
      "31           82.0  255.0    1.259508  \n",
      "32           78.0  258.0    1.274326  \n",
      "33           95.0  258.0    1.274326  \n",
      "34           85.0  240.0    1.185419  \n",
      "35           80.0  260.0    1.284204  \n",
      "36           85.0  240.0    1.185419  \n",
      "37           92.0  255.0    1.259508  \n",
      "38           85.0  240.0    1.185419  \n",
      "40           80.0  260.0    1.284204  \n",
      "41           92.0  255.0    1.259508  \n",
      "43           84.0  246.0    1.215055  \n",
      "45           88.0  254.0    1.254569  \n",
      "49           85.0  240.0    1.185419  \n",
      "50           82.0  255.0    1.259508  \n",
      "52           78.0  258.0    1.274326  \n",
      "55           88.0  254.0    1.254569  \n",
      "56           85.0  240.0    1.185419  \n",
      "59           78.0  258.0    1.274326  \n",
      "60           85.0  240.0    1.185419  \n",
      "64           84.0  246.0    1.215055  \n",
      "65           80.0  260.0    1.284204  \n",
      "69           84.0  246.0    1.215055  \n",
      "72           85.0  240.0    1.185419  \n",
      "79           85.0  240.0    1.185419  \n",
      "80           82.0  255.0    1.259508  \n",
      "81           88.0  254.0    1.254569  \n",
      "85           78.0  258.0    1.274326  \n"
     ]
    }
   ],
   "source": [
    "# Create a new DataFrame with students above the average percentage\n",
    "sort_students = students.sort_values(by='percentage', ascending=True)\n",
    "average_value = students['percentage'].mean()\n",
    "above_average_students = students[students['percentage'] >= average_value]\n",
    "print(above_average_students)"
   ]
  },
  {
   "cell_type": "markdown",
   "metadata": {},
   "source": [
    "4. Visualize the data:\n",
    "\n",
    "   a. Plot a histogram of the 'Total' marks.\n",
    "   \n",
    "   b. Create a bar plot of the average marks in each subject.\n",
    "   \n",
    "   c. Generate a scatter plot of 'Percentage' against 'Total' marks."
   ]
  },
  {
   "cell_type": "code",
   "execution_count": 62,
   "metadata": {},
   "outputs": [
    {
     "name": "stdout",
     "output_type": "stream",
     "text": [
      "Requirement already satisfied: matplotlib in c:\\users\\admin\\appdata\\local\\programs\\python\\python312\\lib\\site-packages (3.8.3)\n",
      "Requirement already satisfied: contourpy>=1.0.1 in c:\\users\\admin\\appdata\\local\\programs\\python\\python312\\lib\\site-packages (from matplotlib) (1.2.0)\n",
      "Requirement already satisfied: cycler>=0.10 in c:\\users\\admin\\appdata\\local\\programs\\python\\python312\\lib\\site-packages (from matplotlib) (0.12.1)\n",
      "Requirement already satisfied: fonttools>=4.22.0 in c:\\users\\admin\\appdata\\local\\programs\\python\\python312\\lib\\site-packages (from matplotlib) (4.50.0)\n",
      "Requirement already satisfied: kiwisolver>=1.3.1 in c:\\users\\admin\\appdata\\local\\programs\\python\\python312\\lib\\site-packages (from matplotlib) (1.4.5)\n",
      "Requirement already satisfied: numpy<2,>=1.21 in c:\\users\\admin\\appdata\\local\\programs\\python\\python312\\lib\\site-packages (from matplotlib) (1.26.4)\n",
      "Requirement already satisfied: packaging>=20.0 in c:\\users\\admin\\appdata\\local\\programs\\python\\python312\\lib\\site-packages (from matplotlib) (24.0)\n",
      "Requirement already satisfied: pillow>=8 in c:\\users\\admin\\appdata\\local\\programs\\python\\python312\\lib\\site-packages (from matplotlib) (10.2.0)\n",
      "Requirement already satisfied: pyparsing>=2.3.1 in c:\\users\\admin\\appdata\\local\\programs\\python\\python312\\lib\\site-packages (from matplotlib) (3.1.2)\n",
      "Requirement already satisfied: python-dateutil>=2.7 in c:\\users\\admin\\appdata\\local\\programs\\python\\python312\\lib\\site-packages (from matplotlib) (2.9.0.post0)\n",
      "Requirement already satisfied: six>=1.5 in c:\\users\\admin\\appdata\\local\\programs\\python\\python312\\lib\\site-packages (from python-dateutil>=2.7->matplotlib) (1.16.0)\n",
      "Note: you may need to restart the kernel to use updated packages.\n"
     ]
    }
   ],
   "source": [
    "%pip install matplotlib"
   ]
  },
  {
   "cell_type": "code",
   "execution_count": 63,
   "metadata": {},
   "outputs": [
    {
     "data": {
      "text/plain": [
       "(array([ 2.,  1.,  0.,  3.,  0., 10.,  9., 15., 17., 29.]),\n",
       " array([160., 170., 180., 190., 200., 210., 220., 230., 240., 250., 260.]),\n",
       " <BarContainer object of 10 artists>)"
      ]
     },
     "execution_count": 63,
     "metadata": {},
     "output_type": "execute_result"
    },
    {
     "data": {
      "image/png": "[encoded data removed]",
      "text/plain": [
       "<Figure size 640x480 with 1 Axes>"
      ]
     },
     "metadata": {},
     "output_type": "display_data"
    }
   ],
   "source": [
    "import matplotlib.pyplot as plt\n",
    "\n",
    "# Plot histogram of 'Total' marks\n",
    "plt.hist(students['total'])\n"
   ]
  },
  {
   "cell_type": "code",
   "execution_count": 64,
   "metadata": {},
   "outputs": [
    {
     "name": "stdout",
     "output_type": "stream",
     "text": [
      "Math_Score       77.873563\n",
      "English_Score    78.850575\n",
      "Science_Score    78.651163\n",
      "dtype: float64\n"
     ]
    },
    {
     "data": {
      "text/plain": [
       "<BarContainer object of 3 artists>"
      ]
     },
     "execution_count": 64,
     "metadata": {},
     "output_type": "execute_result"
    },
    {
     "data": {
      "image/png": "[encoded data removed]",
      "text/plain": [
       "<Figure size 640x480 with 1 Axes>"
      ]
     },
     "metadata": {},
     "output_type": "display_data"
    }
   ],
   "source": [
    "# Create a bar plot of average marks in each subject\n",
    "average_marks_subjects = students[['Math_Score', 'English_Score', 'Science_Score']].mean()\n",
    "print(average_marks_subjects)\n",
    "average_marks_subjects.plot(kind='bar', color=['blue', 'red', 'green'])\n",
    "plt.title(\"Average Marks Subject\")\n",
    "plt.xlabel('subjects')\n",
    "plt.ylabel('Average Marks')\n",
    "plt.bar(average_marks_subjects, width=0.4, height=3)\n",
    "\n"
   ]
  },
  {
   "cell_type": "code",
   "execution_count": 66,
   "metadata": {},
   "outputs": [
    {
     "data": {
      "text/plain": [
       "Text(0.5, 0, 'total')"
      ]
     },
     "execution_count": 66,
     "metadata": {},
     "output_type": "execute_result"
    },
    {
     "data": {
      "image/png": "[encoded data removed]",
      "text/plain": [
       "<Figure size 640x480 with 1 Axes>"
      ]
     },
     "metadata": {},
     "output_type": "display_data"
    }
   ],
   "source": [
    "# Scatter plot of 'Percentage' against 'Total' marks\n",
    "\n",
    "\n",
    "plt.title(\"Percentage vs total marks\")\n",
    "plt.scatter(students['total'], students['percentage'])\n",
    "plt.ylabel('percentage')\n",
    "plt.xlabel('total')\n",
    "\n",
    "\n"
   ]
  }
 ],
 "metadata": {
  "kernelspec": {
   "display_name": "Python 3",
   "language": "python",
   "name": "python3"
  },
  "language_info": {
   "codemirror_mode": {
    "name": "ipython",
    "version": 3
   },
   "file_extension": ".py",
   "mimetype": "text/x-python",
   "name": "python",
   "nbconvert_exporter": "python",
   "pygments_lexer": "ipython3",
   "version": "3.12.2"
  }
 },
 "nbformat": 4,
 "nbformat_minor": 2
}
