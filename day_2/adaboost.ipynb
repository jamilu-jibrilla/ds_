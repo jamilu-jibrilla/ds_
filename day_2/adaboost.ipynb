{
 "cells": [
  {
   "cell_type": "code",
   "execution_count": 3,
   "metadata": {},
   "outputs": [],
   "source": [
    "\n",
    "\n",
    "data = '''\n",
    "Preference Red_Wine White_Wine Recommendation\n",
    "Red Light-Bodied None Pinot-Noir\n",
    "Red Full-Bodied None Shiraz/Zinfandel\n",
    "White None Dry Sauvignon-Blanc\n",
    "White None None Sweet-Gewurztraminer\n",
    "Red-Fruity None None Pinot-Noir\n",
    "Red-Earthy None None Chianti\n",
    "White-Crisp None None Sauvignon-Blanc\n",
    "White-Creamy None None Chardonnay\n",
    "Red-Spicy None None Shiraz/Zinfandel\n",
    "Red-Rich None None Cabernet-Sauvignon\n",
    "White-Floral None None Gewurztraminer\n",
    "White-Citrus None None Riesling\n",
    "Red None None Pinot-Noir\n",
    "Red None None Chianti\n",
    "White None None Sauvignon-Blanc\n",
    "White None None Chardonnay\n",
    "Red None None Shiraz/Zinfandel\n",
    "Red None None Cabernet-Sauvignon\n",
    "White None None Gewurztraminer\n",
    "White None None Riesling\n",
    "Red-Fruity Light-Bodied None Pinot-Noir\n",
    "Red-Fruity Full-Bodied None Shiraz/Zinfandel\n",
    "Red-Earthy Light-Bodied None Pinot-Noir\n",
    "Red-Earthy Full-Bodied None Cabernet-Sauvignon\n",
    "White-Crisp Dry None Sauvignon-Blanc\n",
    "White-Crisp Sweet None Pinot-Noir\n",
    "White-Creamy Dry None Pinot-Noir\n",
    "White-Creamy Sweet None Chardonnay\n",
    "Red-Spicy Light-Bodied None Pinot-Noir\n",
    "Red-Spicy Full-Bodied None Shiraz/Zinfandel\n",
    "Red-Rich Light-Bodied None Pinot-Noir\n",
    "Red-Rich Full-Bodied None Cabernet-Sauvignon\n",
    "White-Floral Dry None Pinot-Noir\n",
    "White-Floral Sweet None Gewurztraminer\n",
    "White-Citrus Dry None Sauvignon-Blanc\n",
    "White-Citrus Sweet None Riesling\n",
    "Red-Fruity None Sweet Pinot-Noir\n",
    "Red-Fruity None Dry Pinot-Noir\n",
    "Red-Earthy None Sweet-Chianti\n",
    "Red-Earthy None Dry Pinot-Noir\n",
    "'''\n",
    "\n",
    "#Here i import the data and all needed libraries \n",
    "import pandas as pd \n",
    "from sklearn.ensemble import AdaBoostClassifier\n",
    "from sklearn.preprocessing import LabelEncoder\n",
    "from io import StringIO\n",
    "from sklearn.model_selection import train_test_split\n",
    "from sklearn.metrics import accuracy_score\n",
    "from sklearn.preprocessing import LabelEncoder\n",
    "from sklearn.tree import DecisionTreeClassifier\n",
    "from sklearn.model_selection import train_test_split\n",
    "from sklearn.metrics import accuracy_score\n"
   ]
  },
  {
   "cell_type": "code",
   "execution_count": 4,
   "metadata": {},
   "outputs": [
    {
     "name": "stdout",
     "output_type": "stream",
     "text": [
      "      Preference      Red_Wine     White_Wine        Recommendation\n",
      "0            Red  Light-Bodied           none            Pinot-Noir\n",
      "1            Red   Full-Bodied           none      Shiraz/Zinfandel\n",
      "2          White          none            Dry       Sauvignon-Blanc\n",
      "3          White          none           none  Sweet-Gewurztraminer\n",
      "4     Red-Fruity          none           none            Pinot-Noir\n",
      "5     Red-Earthy          none           none               Chianti\n",
      "6    White-Crisp          none           none       Sauvignon-Blanc\n",
      "7   White-Creamy          none           none            Chardonnay\n",
      "8      Red-Spicy          none           none      Shiraz/Zinfandel\n",
      "9       Red-Rich          none           none    Cabernet-Sauvignon\n",
      "10  White-Floral          none           none        Gewurztraminer\n",
      "11  White-Citrus          none           none              Riesling\n",
      "12           Red          none           none            Pinot-Noir\n",
      "13           Red          none           none               Chianti\n",
      "14         White          none           none       Sauvignon-Blanc\n",
      "15         White          none           none            Chardonnay\n",
      "16           Red          none           none      Shiraz/Zinfandel\n",
      "17           Red          none           none    Cabernet-Sauvignon\n",
      "18         White          none           none        Gewurztraminer\n",
      "19         White          none           none              Riesling\n",
      "20    Red-Fruity  Light-Bodied           none            Pinot-Noir\n",
      "21    Red-Fruity   Full-Bodied           none      Shiraz/Zinfandel\n",
      "22    Red-Earthy  Light-Bodied           none            Pinot-Noir\n",
      "23    Red-Earthy   Full-Bodied           none    Cabernet-Sauvignon\n",
      "24   White-Crisp           Dry           none       Sauvignon-Blanc\n",
      "25   White-Crisp         Sweet           none            Pinot-Noir\n",
      "26  White-Creamy           Dry           none            Pinot-Noir\n",
      "27  White-Creamy         Sweet           none            Chardonnay\n",
      "28     Red-Spicy  Light-Bodied           none            Pinot-Noir\n",
      "29     Red-Spicy   Full-Bodied           none      Shiraz/Zinfandel\n",
      "30      Red-Rich  Light-Bodied           none            Pinot-Noir\n",
      "31      Red-Rich   Full-Bodied           none    Cabernet-Sauvignon\n",
      "32  White-Floral           Dry           none            Pinot-Noir\n",
      "33  White-Floral         Sweet           none        Gewurztraminer\n",
      "34  White-Citrus           Dry           none       Sauvignon-Blanc\n",
      "35  White-Citrus         Sweet           none              Riesling\n",
      "36    Red-Fruity          none          Sweet            Pinot-Noir\n",
      "37    Red-Fruity          none            Dry            Pinot-Noir\n",
      "38    Red-Earthy          none  Sweet-Chianti                  none\n",
      "39    Red-Earthy          none            Dry            Pinot-Noir\n"
     ]
    },
    {
     "name": "stderr",
     "output_type": "stream",
     "text": [
      "<>:1: SyntaxWarning: invalid escape sequence '\\s'\n",
      "<>:1: SyntaxWarning: invalid escape sequence '\\s'\n",
      "C:\\Users\\Admin\\AppData\\Local\\Temp\\ipykernel_20904\\943133307.py:1: SyntaxWarning: invalid escape sequence '\\s'\n",
      "  df = pd.read_csv(StringIO(data), sep=\"\\s+\")\n"
     ]
    }
   ],
   "source": [
    "df = pd.read_csv(StringIO(data), sep=\"\\s+\")\n",
    "df = df.fillna(\"none\")\n",
    "print(df)"
   ]
  },
  {
   "cell_type": "code",
   "execution_count": 48,
   "metadata": {},
   "outputs": [
    {
     "name": "stdout",
     "output_type": "stream",
     "text": [
      "ADABOOST Accuracy: 0.4166666666666667\n"
     ]
    },
    {
     "name": "stderr",
     "output_type": "stream",
     "text": [
      "c:\\Users\\Admin\\AppData\\Local\\Programs\\Python\\Python312\\Lib\\site-packages\\sklearn\\ensemble\\_weight_boosting.py:519: FutureWarning: The SAMME.R algorithm (the default) is deprecated and will be removed in 1.6. Use the SAMME algorithm to circumvent this warning.\n",
      "  warnings.warn(\n"
     ]
    }
   ],
   "source": [
    "label_encoders_cart = {}\n",
    "categorical_cols = ['Preference', 'Red_Wine', 'White_Wine']\n",
    "for col in categorical_cols:\n",
    "    label_encoders_cart[col] = LabelEncoder()\n",
    "    df[col+'_n'] = label_encoders_cart[col].fit_transform(df[col])\n",
    "\n",
    "input = df[['Preference_n', 'Red_Wine_n', 'White_Wine_n']]\n",
    "target = df['Recommendation']\n",
    "\n",
    "x_train, x_test, y_train, y_test = train_test_split(input, target, test_size=0.3)\n",
    "\n",
    "boost = AdaBoostClassifier()\n",
    "\n",
    "boost_model = boost.fit(x_train, y_train)\n",
    "\n",
    "y_pred = boost_model.predict(x_test)\n",
    "\n",
    "accuracy = accuracy_score(y_test, y_pred)\n",
    "print(\"ADABOOST Accuracy:\", accuracy)"
   ]
  }
 ],
 "metadata": {
  "kernelspec": {
   "display_name": "Python 3",
   "language": "python",
   "name": "python3"
  },
  "language_info": {
   "codemirror_mode": {
    "name": "ipython",
    "version": 3
   },
   "file_extension": ".py",
   "mimetype": "text/x-python",
   "name": "python",
   "nbconvert_exporter": "python",
   "pygments_lexer": "ipython3",
   "version": "3.12.2"
  }
 },
 "nbformat": 4,
 "nbformat_minor": 2
}
