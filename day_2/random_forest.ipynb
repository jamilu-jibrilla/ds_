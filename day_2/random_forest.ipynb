{
 "cells": [
  {
   "cell_type": "code",
   "execution_count": 1,
   "metadata": {},
   "outputs": [
    {
     "name": "stdout",
     "output_type": "stream",
     "text": [
      "Requirement already satisfied: flask in c:\\users\\admin\\appdata\\local\\programs\\python\\python312\\lib\\site-packages (3.0.2)\n",
      "Requirement already satisfied: pandas in c:\\users\\admin\\appdata\\local\\programs\\python\\python312\\lib\\site-packages (2.2.1)\n",
      "Requirement already satisfied: scikit-learn in c:\\users\\admin\\appdata\\local\\programs\\python\\python312\\lib\\site-packages (1.4.1.post1)\n",
      "Requirement already satisfied: Werkzeug>=3.0.0 in c:\\users\\admin\\appdata\\local\\programs\\python\\python312\\lib\\site-packages (from flask) (3.0.1)\n",
      "Requirement already satisfied: Jinja2>=3.1.2 in c:\\users\\admin\\appdata\\local\\programs\\python\\python312\\lib\\site-packages (from flask) (3.1.3)\n",
      "Requirement already satisfied: itsdangerous>=2.1.2 in c:\\users\\admin\\appdata\\local\\programs\\python\\python312\\lib\\site-packages (from flask) (2.1.2)\n",
      "Requirement already satisfied: click>=8.1.3 in c:\\users\\admin\\appdata\\local\\programs\\python\\python312\\lib\\site-packages (from flask) (8.1.7)\n",
      "Requirement already satisfied: blinker>=1.6.2 in c:\\users\\admin\\appdata\\local\\programs\\python\\python312\\lib\\site-packages (from flask) (1.7.0)\n",
      "Requirement already satisfied: numpy<2,>=1.26.0 in c:\\users\\admin\\appdata\\local\\programs\\python\\python312\\lib\\site-packages (from pandas) (1.26.4)\n",
      "Requirement already satisfied: python-dateutil>=2.8.2 in c:\\users\\admin\\appdata\\local\\programs\\python\\python312\\lib\\site-packages (from pandas) (2.9.0.post0)\n",
      "Requirement already satisfied: pytz>=2020.1 in c:\\users\\admin\\appdata\\local\\programs\\python\\python312\\lib\\site-packages (from pandas) (2024.1)\n",
      "Requirement already satisfied: tzdata>=2022.7 in c:\\users\\admin\\appdata\\local\\programs\\python\\python312\\lib\\site-packages (from pandas) (2024.1)\n",
      "Requirement already satisfied: scipy>=1.6.0 in c:\\users\\admin\\appdata\\local\\programs\\python\\python312\\lib\\site-packages (from scikit-learn) (1.12.0)\n",
      "Requirement already satisfied: joblib>=1.2.0 in c:\\users\\admin\\appdata\\local\\programs\\python\\python312\\lib\\site-packages (from scikit-learn) (1.3.2)\n",
      "Requirement already satisfied: threadpoolctl>=2.0.0 in c:\\users\\admin\\appdata\\local\\programs\\python\\python312\\lib\\site-packages (from scikit-learn) (3.4.0)\n",
      "Requirement already satisfied: colorama in c:\\users\\admin\\appdata\\roaming\\python\\python312\\site-packages (from click>=8.1.3->flask) (0.4.6)\n",
      "Requirement already satisfied: MarkupSafe>=2.0 in c:\\users\\admin\\appdata\\local\\programs\\python\\python312\\lib\\site-packages (from Jinja2>=3.1.2->flask) (2.1.5)\n",
      "Requirement already satisfied: six>=1.5 in c:\\users\\admin\\appdata\\local\\programs\\python\\python312\\lib\\site-packages (from python-dateutil>=2.8.2->pandas) (1.16.0)\n",
      "Note: you may need to restart the kernel to use updated packages.\n"
     ]
    }
   ],
   "source": [
    "%pip install flask pandas scikit-learn"
   ]
  },
  {
   "cell_type": "code",
   "execution_count": 2,
   "metadata": {},
   "outputs": [],
   "source": [
    "data = '''\n",
    "Preference Red_Wine White_Wine Recommendation\n",
    "Red Light-Bodied None Pinot-Noir\n",
    "Red Full-Bodied None Shiraz/Zinfandel\n",
    "White None Dry Sauvignon-Blanc\n",
    "White None None Sweet-Gewurztraminer\n",
    "Red-Fruity None None Pinot-Noir\n",
    "Red-Earthy None None Chianti\n",
    "White-Crisp None None Sauvignon-Blanc\n",
    "White-Creamy None None Chardonnay\n",
    "Red-Spicy None None Shiraz/Zinfandel\n",
    "Red-Rich None None Cabernet-Sauvignon\n",
    "White-Floral None None Gewurztraminer\n",
    "White-Citrus None None Riesling\n",
    "Red None None Pinot-Noir\n",
    "Red None None Chianti\n",
    "White None None Sauvignon-Blanc\n",
    "White None None Chardonnay\n",
    "Red None None Shiraz/Zinfandel\n",
    "Red None None Cabernet-Sauvignon\n",
    "White None None Gewurztraminer\n",
    "White None None Riesling\n",
    "Red-Fruity Light-Bodied None Pinot-Noir\n",
    "Red-Fruity Full-Bodied None Shiraz/Zinfandel\n",
    "Red-Earthy Light-Bodied None Pinot-Noir\n",
    "Red-Earthy Full-Bodied None Cabernet-Sauvignon\n",
    "White-Crisp Dry None Sauvignon-Blanc\n",
    "White-Crisp Sweet None Pinot-Noir\n",
    "White-Creamy Dry None Pinot-Noir\n",
    "White-Creamy Sweet None Chardonnay\n",
    "Red-Spicy Light-Bodied None Pinot-Noir\n",
    "Red-Spicy Full-Bodied None Shiraz/Zinfandel\n",
    "Red-Rich Light-Bodied None Pinot-Noir\n",
    "Red-Rich Full-Bodied None Cabernet-Sauvignon\n",
    "White-Floral Dry None Pinot-Noir\n",
    "White-Floral Sweet None Gewurztraminer\n",
    "White-Citrus Dry None Sauvignon-Blanc\n",
    "White-Citrus Sweet None Riesling\n",
    "Red-Fruity None Sweet Pinot-Noir\n",
    "Red-Fruity None Dry Pinot-Noir\n",
    "Red-Earthy None Sweet-Chianti\n",
    "Red-Earthy None Dry Pinot-Noir\n",
    "'''\n",
    "\n",
    "#Here import the data and all needed libraries \n",
    "\n",
    "import pandas as pd\n",
    "import sklearn\n",
    "from sklearn.ensemble import RandomForestClassifier \n",
    "from sklearn.preprocessing import LabelEncoder\n",
    "from flask import Flask, request, jsonify\n",
    "from io import StringIO\n",
    "from sklearn.model_selection import train_test_split, RandomizedSearchCV\n",
    "from sklearn.metrics import accuracy_score\n",
    "from scipy.stats import randint\n"
   ]
  },
  {
   "cell_type": "code",
   "execution_count": 3,
   "metadata": {},
   "outputs": [
    {
     "name": "stdout",
     "output_type": "stream",
     "text": [
      "      Preference      Red_Wine     White_Wine        Recommendation\n",
      "0            Red  Light-Bodied           none            Pinot-Noir\n",
      "1            Red   Full-Bodied           none      Shiraz/Zinfandel\n",
      "2          White          none            Dry       Sauvignon-Blanc\n",
      "3          White          none           none  Sweet-Gewurztraminer\n",
      "4     Red-Fruity          none           none            Pinot-Noir\n",
      "5     Red-Earthy          none           none               Chianti\n",
      "6    White-Crisp          none           none       Sauvignon-Blanc\n",
      "7   White-Creamy          none           none            Chardonnay\n",
      "8      Red-Spicy          none           none      Shiraz/Zinfandel\n",
      "9       Red-Rich          none           none    Cabernet-Sauvignon\n",
      "10  White-Floral          none           none        Gewurztraminer\n",
      "11  White-Citrus          none           none              Riesling\n",
      "12           Red          none           none            Pinot-Noir\n",
      "13           Red          none           none               Chianti\n",
      "14         White          none           none       Sauvignon-Blanc\n",
      "15         White          none           none            Chardonnay\n",
      "16           Red          none           none      Shiraz/Zinfandel\n",
      "17           Red          none           none    Cabernet-Sauvignon\n",
      "18         White          none           none        Gewurztraminer\n",
      "19         White          none           none              Riesling\n",
      "20    Red-Fruity  Light-Bodied           none            Pinot-Noir\n",
      "21    Red-Fruity   Full-Bodied           none      Shiraz/Zinfandel\n",
      "22    Red-Earthy  Light-Bodied           none            Pinot-Noir\n",
      "23    Red-Earthy   Full-Bodied           none    Cabernet-Sauvignon\n",
      "24   White-Crisp           Dry           none       Sauvignon-Blanc\n",
      "25   White-Crisp         Sweet           none            Pinot-Noir\n",
      "26  White-Creamy           Dry           none            Pinot-Noir\n",
      "27  White-Creamy         Sweet           none            Chardonnay\n",
      "28     Red-Spicy  Light-Bodied           none            Pinot-Noir\n",
      "29     Red-Spicy   Full-Bodied           none      Shiraz/Zinfandel\n",
      "30      Red-Rich  Light-Bodied           none            Pinot-Noir\n",
      "31      Red-Rich   Full-Bodied           none    Cabernet-Sauvignon\n",
      "32  White-Floral           Dry           none            Pinot-Noir\n",
      "33  White-Floral         Sweet           none        Gewurztraminer\n",
      "34  White-Citrus           Dry           none       Sauvignon-Blanc\n",
      "35  White-Citrus         Sweet           none              Riesling\n",
      "36    Red-Fruity          none          Sweet            Pinot-Noir\n",
      "37    Red-Fruity          none            Dry            Pinot-Noir\n",
      "38    Red-Earthy          none  Sweet-Chianti                  none\n",
      "39    Red-Earthy          none            Dry            Pinot-Noir\n"
     ]
    },
    {
     "name": "stderr",
     "output_type": "stream",
     "text": [
      "<>:2: SyntaxWarning: invalid escape sequence '\\s'\n",
      "<>:2: SyntaxWarning: invalid escape sequence '\\s'\n",
      "C:\\Users\\Admin\\AppData\\Local\\Temp\\ipykernel_10312\\808151226.py:2: SyntaxWarning: invalid escape sequence '\\s'\n",
      "  dataFrame = pd.read_csv(StringIO(data), sep=\"\\s+\")\n"
     ]
    }
   ],
   "source": [
    "# Parse data with string io to emulate file parsing\n",
    "dataFrame = pd.read_csv(StringIO(data), sep=\"\\s+\")\n",
    "dataFrame = dataFrame.fillna(\"none\")\n",
    "print(dataFrame)"
   ]
  },
  {
   "cell_type": "code",
   "execution_count": 4,
   "metadata": {},
   "outputs": [
    {
     "data": {
      "text/html": [
       "<div>\n",
       "<style scoped>\n",
       "    .dataframe tbody tr th:only-of-type {\n",
       "        vertical-align: middle;\n",
       "    }\n",
       "\n",
       "    .dataframe tbody tr th {\n",
       "        vertical-align: top;\n",
       "    }\n",
       "\n",
       "    .dataframe thead th {\n",
       "        text-align: right;\n",
       "    }\n",
       "</style>\n",
       "<table border=\"1\" class=\"dataframe\">\n",
       "  <thead>\n",
       "    <tr style=\"text-align: right;\">\n",
       "      <th></th>\n",
       "      <th>Preference</th>\n",
       "      <th>Red_Wine</th>\n",
       "      <th>White_Wine</th>\n",
       "      <th>Recommendation</th>\n",
       "      <th>preference_n</th>\n",
       "      <th>red_wine_n</th>\n",
       "      <th>white_wine_n</th>\n",
       "      <th>recommendation_n</th>\n",
       "    </tr>\n",
       "  </thead>\n",
       "  <tbody>\n",
       "    <tr>\n",
       "      <th>0</th>\n",
       "      <td>Red</td>\n",
       "      <td>Light-Bodied</td>\n",
       "      <td>none</td>\n",
       "      <td>Pinot-Noir</td>\n",
       "      <td>0</td>\n",
       "      <td>2</td>\n",
       "      <td>3</td>\n",
       "      <td>4</td>\n",
       "    </tr>\n",
       "    <tr>\n",
       "      <th>1</th>\n",
       "      <td>Red</td>\n",
       "      <td>Full-Bodied</td>\n",
       "      <td>none</td>\n",
       "      <td>Shiraz/Zinfandel</td>\n",
       "      <td>0</td>\n",
       "      <td>1</td>\n",
       "      <td>3</td>\n",
       "      <td>7</td>\n",
       "    </tr>\n",
       "    <tr>\n",
       "      <th>2</th>\n",
       "      <td>White</td>\n",
       "      <td>none</td>\n",
       "      <td>Dry</td>\n",
       "      <td>Sauvignon-Blanc</td>\n",
       "      <td>5</td>\n",
       "      <td>4</td>\n",
       "      <td>0</td>\n",
       "      <td>6</td>\n",
       "    </tr>\n",
       "    <tr>\n",
       "      <th>3</th>\n",
       "      <td>White</td>\n",
       "      <td>none</td>\n",
       "      <td>none</td>\n",
       "      <td>Sweet-Gewurztraminer</td>\n",
       "      <td>5</td>\n",
       "      <td>4</td>\n",
       "      <td>3</td>\n",
       "      <td>8</td>\n",
       "    </tr>\n",
       "    <tr>\n",
       "      <th>4</th>\n",
       "      <td>Red-Fruity</td>\n",
       "      <td>none</td>\n",
       "      <td>none</td>\n",
       "      <td>Pinot-Noir</td>\n",
       "      <td>2</td>\n",
       "      <td>4</td>\n",
       "      <td>3</td>\n",
       "      <td>4</td>\n",
       "    </tr>\n",
       "  </tbody>\n",
       "</table>\n",
       "</div>"
      ],
      "text/plain": [
       "   Preference      Red_Wine White_Wine        Recommendation  preference_n  \\\n",
       "0         Red  Light-Bodied       none            Pinot-Noir             0   \n",
       "1         Red   Full-Bodied       none      Shiraz/Zinfandel             0   \n",
       "2       White          none        Dry       Sauvignon-Blanc             5   \n",
       "3       White          none       none  Sweet-Gewurztraminer             5   \n",
       "4  Red-Fruity          none       none            Pinot-Noir             2   \n",
       "\n",
       "   red_wine_n  white_wine_n  recommendation_n  \n",
       "0           2             3                 4  \n",
       "1           1             3                 7  \n",
       "2           4             0                 6  \n",
       "3           4             3                 8  \n",
       "4           4             3                 4  "
      ]
     },
     "execution_count": 4,
     "metadata": {},
     "output_type": "execute_result"
    }
   ],
   "source": [
    "#Encode our data\n",
    "le_preference =  LabelEncoder()\n",
    "le_red_wine = LabelEncoder()\n",
    "le_white_wine = LabelEncoder()\n",
    "le_recommendation = LabelEncoder()\n",
    "\n",
    "dataFrame['preference_n'] = le_preference.fit_transform(dataFrame['Preference'])\n",
    "dataFrame['red_wine_n'] = le_red_wine.fit_transform(dataFrame['Red_Wine'])\n",
    "dataFrame['white_wine_n'] = le_white_wine.fit_transform(dataFrame['White_Wine'])\n",
    "dataFrame['recommendation_n'] = le_recommendation.fit_transform(dataFrame['Recommendation'])\n",
    "\n",
    "dataFrame.head()"
   ]
  },
  {
   "cell_type": "code",
   "execution_count": 5,
   "metadata": {},
   "outputs": [
    {
     "data": {
      "text/html": [
       "<div>\n",
       "<style scoped>\n",
       "    .dataframe tbody tr th:only-of-type {\n",
       "        vertical-align: middle;\n",
       "    }\n",
       "\n",
       "    .dataframe tbody tr th {\n",
       "        vertical-align: top;\n",
       "    }\n",
       "\n",
       "    .dataframe thead th {\n",
       "        text-align: right;\n",
       "    }\n",
       "</style>\n",
       "<table border=\"1\" class=\"dataframe\">\n",
       "  <thead>\n",
       "    <tr style=\"text-align: right;\">\n",
       "      <th></th>\n",
       "      <th>preference_n</th>\n",
       "      <th>red_wine_n</th>\n",
       "      <th>white_wine_n</th>\n",
       "      <th>recommendation_n</th>\n",
       "    </tr>\n",
       "  </thead>\n",
       "  <tbody>\n",
       "    <tr>\n",
       "      <th>0</th>\n",
       "      <td>0</td>\n",
       "      <td>2</td>\n",
       "      <td>3</td>\n",
       "      <td>4</td>\n",
       "    </tr>\n",
       "    <tr>\n",
       "      <th>1</th>\n",
       "      <td>0</td>\n",
       "      <td>1</td>\n",
       "      <td>3</td>\n",
       "      <td>7</td>\n",
       "    </tr>\n",
       "    <tr>\n",
       "      <th>2</th>\n",
       "      <td>5</td>\n",
       "      <td>4</td>\n",
       "      <td>0</td>\n",
       "      <td>6</td>\n",
       "    </tr>\n",
       "    <tr>\n",
       "      <th>3</th>\n",
       "      <td>5</td>\n",
       "      <td>4</td>\n",
       "      <td>3</td>\n",
       "      <td>8</td>\n",
       "    </tr>\n",
       "    <tr>\n",
       "      <th>4</th>\n",
       "      <td>2</td>\n",
       "      <td>4</td>\n",
       "      <td>3</td>\n",
       "      <td>4</td>\n",
       "    </tr>\n",
       "  </tbody>\n",
       "</table>\n",
       "</div>"
      ],
      "text/plain": [
       "   preference_n  red_wine_n  white_wine_n  recommendation_n\n",
       "0             0           2             3                 4\n",
       "1             0           1             3                 7\n",
       "2             5           4             0                 6\n",
       "3             5           4             3                 8\n",
       "4             2           4             3                 4"
      ]
     },
     "execution_count": 5,
     "metadata": {},
     "output_type": "execute_result"
    }
   ],
   "source": [
    "# Make another dataframe with encoded texts only\n",
    "dataframe_n = dataFrame.drop(['Preference', 'Red_Wine', 'White_Wine', 'Recommendation'], axis='columns')\n",
    "dataframe_n.head()"
   ]
  },
  {
   "cell_type": "code",
   "execution_count": 6,
   "metadata": {},
   "outputs": [
    {
     "name": "stdout",
     "output_type": "stream",
     "text": [
      "0.3333333333333333\n"
     ]
    }
   ],
   "source": [
    "#split into features and target\n",
    "input = dataframe_n.drop(\"recommendation_n\", axis=\"columns\")\n",
    "target = dataframe_n['recommendation_n']\n",
    "\n",
    "#train model \n",
    "x_train, x_test, y_train, y_test = train_test_split(input, target, test_size=0.3)\n",
    "randomModel = RandomForestClassifier(n_estimators=451)\n",
    "randomModel.fit(x_train, y_train)\n",
    "\n",
    "y_pred = randomModel.predict(x_test)\n",
    "accuracy = accuracy_score(y_test, y_pred)\n",
    "print(accuracy)"
   ]
  },
  {
   "cell_type": "code",
   "execution_count": 7,
   "metadata": {},
   "outputs": [
    {
     "name": "stderr",
     "output_type": "stream",
     "text": [
      "c:\\Users\\Admin\\AppData\\Local\\Programs\\Python\\Python312\\Lib\\site-packages\\sklearn\\model_selection\\_split.py:737: UserWarning: The least populated class in y has only 1 members, which is less than n_splits=5.\n",
      "  warnings.warn(\n"
     ]
    },
    {
     "name": "stdout",
     "output_type": "stream",
     "text": [
      "Best hyperparameters: {'max_depth': 14, 'n_estimators': 179}\n"
     ]
    }
   ],
   "source": [
    "param_dist = {'n_estimators': randint(50,500),\n",
    "              'max_depth': randint(1,20)}\n",
    "\n",
    "# Create a random forest classifier\n",
    "rf = RandomForestClassifier()\n",
    "\n",
    "# Use random search to find the best hyperparameters\n",
    "rand_search = RandomizedSearchCV(rf, \n",
    "                                 param_distributions = param_dist, \n",
    "                                 n_iter=5, \n",
    "                                 cv=5)\n",
    "\n",
    "# Fit the random search object to the data\n",
    "rand_search.fit(x_train, y_train)\n",
    "\n",
    "# Create a variable for the best model\n",
    "best_rf = rand_search.best_estimator_\n",
    "\n",
    "# Print the best hyperparameters\n",
    "print('Best hyperparameters:',  rand_search.best_params_)"
   ]
  },
  {
   "cell_type": "code",
   "execution_count": 8,
   "metadata": {},
   "outputs": [
    {
     "name": "stdout",
     "output_type": "stream",
     "text": [
      " * Serving Flask app '__main__'\n",
      " * Debug mode: off\n"
     ]
    },
    {
     "name": "stderr",
     "output_type": "stream",
     "text": [
      "WARNING: This is a development server. Do not use it in a production deployment. Use a production WSGI server instead.\n",
      " * Running on http://127.0.0.1:5000\n",
      "Press CTRL+C to quit\n"
     ]
    },
    {
     "name": "stderr",
     "output_type": "stream",
     "text": [
      "127.0.0.1 - - [28/Mar/2024 13:53:20] \"POST /random_forest HTTP/1.1\" 200 -\n"
     ]
    },
    {
     "name": "stdout",
     "output_type": "stream",
     "text": [
      "Pinot-Noir\n"
     ]
    }
   ],
   "source": [
    "app = Flask(__name__)\n",
    "\n",
    "@app.route('/random_forest', methods=['POST'])\n",
    "def recommend():\n",
    "    preferences = request.json    \n",
    "    input_data = pd.DataFrame([preferences])\n",
    "\n",
    "    \n",
    "\n",
    "    input_data['preference_n'] = le_preference.transform(input_data['Preference'])\n",
    "    input_data['red_wine_n'] = le_red_wine.transform(input_data['Red_Wine'])\n",
    "    input_data['white_wine_n'] = le_white_wine.transform(input_data['White_Wine'])\n",
    "\n",
    "    newdata = input_data.drop([\"Preference\", \"Red_Wine\", \"White_Wine\"], axis=\"columns\")\n",
    "\n",
    "    prediction = randomModel.predict(newdata)\n",
    "    recommendation = prediction[0]\n",
    "\n",
    "    recommendation_text = le_recommendation.inverse_transform([recommendation])[0]\n",
    "\n",
    "    print(recommendation_text)\n",
    "\n",
    "    \n",
    "    return jsonify({'recommendation': recommendation_text})\n",
    "\n",
    "if __name__ == '__main__':\n",
    "    app.run()\n"
   ]
  }
 ],
 "metadata": {
  "kernelspec": {
   "display_name": "Python 3",
   "language": "python",
   "name": "python3"
  },
  "language_info": {
   "codemirror_mode": {
    "name": "ipython",
    "version": 3
   },
   "file_extension": ".py",
   "mimetype": "text/x-python",
   "name": "python",
   "nbconvert_exporter": "python",
   "pygments_lexer": "ipython3",
   "version": "3.12.2"
  }
 },
 "nbformat": 4,
 "nbformat_minor": 2
}
