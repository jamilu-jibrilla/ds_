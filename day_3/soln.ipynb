{
 "cells": [
  {
   "cell_type": "code",
   "execution_count": null,
   "metadata": {},
   "outputs": [],
   "source": [
    "%pip install tensorflow\n",
    "%pip install transformers\n",
    "%pip install spacy"
   ]
  },
  {
   "cell_type": "code",
   "execution_count": 2,
   "metadata": {},
   "outputs": [],
   "source": [
    "import pandas as pd\n",
    "from flask import Flask, request, jsonify\n",
    "from sklearn.model_selection import train_test_split\n",
    "from transformers import AutoModelForQuestionAnswering, TrainingArguments, Trainer\n",
    "from transformers import DefaultDataCollator\n",
    "\n",
    "data_collator = DefaultDataCollator()"
   ]
  },
  {
   "cell_type": "code",
   "execution_count": 3,
   "metadata": {},
   "outputs": [],
   "source": [
    "for encoding in ['utf-8', 'latin-1', 'windows-1252']:\n",
    "    try:\n",
    "        df = pd.read_csv('./sales_data_sample.csv', encoding=encoding)\n",
    "        df['POSTALCODE'] = df['POSTALCODE'].fillna(0000)\n",
    "        df[['QUANTITYORDERED', 'PRICEEACH', 'ORDERLINENUMBER', 'SALES']] = df[['QUANTITYORDERED', 'PRICEEACH', 'ORDERLINENUMBER', 'SALES']].fillna(0) \n",
    "        df[['STATUS', 'ADDRESSLINE1', 'ADDRESSLINE2', 'CITY', 'STATE',  \"COUNTRY\", \"TERRITORY\", \"CONTACTLASTNAME\",\"CONTACTFIRSTNAME\", \"DEALSIZE\" ]] = df[['STATUS', 'ADDRESSLINE1', 'ADDRESSLINE2', 'CITY', 'STATE',  \"COUNTRY\", \"TERRITORY\", \"CONTACTLASTNAME\",\"CONTACTFIRSTNAME\", \"DEALSIZE\" ]].fillna('N/A') \n",
    "        break \n",
    "    except UnicodeDecodeError:\n",
    "        pass"
   ]
  },
  {
   "cell_type": "code",
   "execution_count": null,
   "metadata": {},
   "outputs": [],
   "source": [
    "%pip install tf-keras\n"
   ]
  },
  {
   "cell_type": "code",
   "execution_count": 16,
   "metadata": {},
   "outputs": [],
   "source": [
    "from transformers import AutoModelForTableQuestionAnswering, AutoTokenizer, pipeline\n",
    "from transformers import TapasTokenizer\n",
    "\n",
    "table = df.drop('ORDERDATE', axis=1)\n",
    "table = table.astype(str)\n",
    "table = table[:10]\n",
    "\n",
    "model=\"google/tapas-large-finetuned-wtq\"\n",
    "tapas_model = AutoModelForTableQuestionAnswering.from_pretrained(model)\n",
    "tapas_tokenizer = AutoTokenizer.from_pretrained(model)\n",
    "\n",
    "nlp = pipeline('table-question-answering', model=tapas_model, tokenizer=tapas_tokenizer)\n",
    "\n",
    "def qa(query,data):\n",
    "    print(query)\n",
    "    result = nlp({'table': data,'query':query})\n",
    "    answer = result['cells']\n",
    "    return answer[0]\n"
   ]
  },
  {
   "cell_type": "code",
   "execution_count": 18,
   "metadata": {},
   "outputs": [
    {
     "name": "stdout",
     "output_type": "stream",
     "text": [
      " * Serving Flask app '__main__'\n",
      " * Debug mode: off\n"
     ]
    },
    {
     "name": "stderr",
     "output_type": "stream",
     "text": [
      "WARNING: This is a development server. Do not use it in a production deployment. Use a production WSGI server instead.\n",
      " * Running on http://127.0.0.1:5000\n",
      "Press CTRL+C to quit\n"
     ]
    },
    {
     "name": "stdout",
     "output_type": "stream",
     "text": [
      "What was the total quantity ordered?\n"
     ]
    },
    {
     "name": "stderr",
     "output_type": "stream",
     "text": [
      "127.0.0.1 - - [02/Apr/2024 12:54:25] \"POST /random_forest HTTP/1.1\" 200 -\n"
     ]
    }
   ],
   "source": [
    "app = Flask(__name__)\n",
    "\n",
    "@app.route('/random_forest', methods=['POST'])\n",
    "def recommend():\n",
    "    user_ask = request.json\n",
    "    question = user_ask['quest']\n",
    "    prediction = qa(question, table)\n",
    "    return jsonify({'answer': prediction})\n",
    "\n",
    "if __name__ == '__main__':\n",
    "    app.run()\n"
   ]
  }
 ],
 "metadata": {
  "kernelspec": {
   "display_name": "Python 3",
   "language": "python",
   "name": "python3"
  },
  "language_info": {
   "codemirror_mode": {
    "name": "ipython",
    "version": 3
   },
   "file_extension": ".py",
   "mimetype": "text/x-python",
   "name": "python",
   "nbconvert_exporter": "python",
   "pygments_lexer": "ipython3",
   "version": "3.12.2"
  }
 },
 "nbformat": 4,
 "nbformat_minor": 2
}
