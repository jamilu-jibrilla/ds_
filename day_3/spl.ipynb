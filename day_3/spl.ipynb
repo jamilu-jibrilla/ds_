{
 "cells": [
  {
   "cell_type": "code",
   "execution_count": 1,
   "metadata": {},
   "outputs": [],
   "source": [
    "import pandas as pd\n",
    "for encoding in ['utf-8', 'latin-1', 'windows-1252']:\n",
    "    try:\n",
    "        df = pd.read_csv('./sales_data_sample.csv', encoding=encoding)\n",
    "        df['POSTALCODE'] = df['POSTALCODE'].fillna(0000)\n",
    "        df[['QUANTITYORDERED', 'PRICEEACH', 'ORDERLINENUMBER', 'SALES']] = df[['QUANTITYORDERED', 'PRICEEACH', 'ORDERLINENUMBER', 'SALES']].fillna(0) \n",
    "        df[['STATUS', 'ADDRESSLINE1', 'ADDRESSLINE2', 'CITY', 'STATE',  \"COUNTRY\", \"TERRITORY\", \"CONTACTLASTNAME\",\"CONTACTFIRSTNAME\", \"DEALSIZE\" ]] = df[['STATUS', 'ADDRESSLINE1', 'ADDRESSLINE2', 'CITY', 'STATE',  \"COUNTRY\", \"TERRITORY\", \"CONTACTLASTNAME\",\"CONTACTFIRSTNAME\", \"DEALSIZE\" ]].fillna('N/A') \n",
    "        break \n",
    "    except UnicodeDecodeError:\n",
    "        pass"
   ]
  },
  {
   "cell_type": "code",
   "execution_count": 11,
   "metadata": {},
   "outputs": [
    {
     "name": "stdout",
     "output_type": "stream",
     "text": [
      " * Serving Flask app '__main__'\n",
      " * Debug mode: off\n"
     ]
    },
    {
     "name": "stderr",
     "output_type": "stream",
     "text": [
      "WARNING: This is a development server. Do not use it in a production deployment. Use a production WSGI server instead.\n",
      " * Running on http://127.0.0.1:5000\n",
      "Press CTRL+C to quit\n"
     ]
    }
   ],
   "source": [
    "from flask import Flask, jsonify, request\n",
    "app = Flask(__name__)\n",
    "\n",
    "selected_features = [\"MONTH_ID\", \"YEAR_ID\", \"PRODUCTLINE\", \"SALES\", \"QUANTITYORDERED\"]\n",
    "df1 = df[selected_features]\n",
    "\n",
    "@app.route(\"/trends\", methods=['POST'])\n",
    "def get_recommendation():\n",
    "  user_ask = request.json\n",
    "  month = user_ask['month']\n",
    "\n",
    "  monthly_data = df[df[\"MONTH_ID\"] == int(month)]\n",
    "  motorcycle_sales = monthly_data[monthly_data[\"PRODUCTLINE\"] == \"Motorcycles\"][\"SALES\"]\n",
    "  avg_motorcycle_sales = motorcycle_sales.mean()\n",
    "\n",
    "\n",
    "  previous_month_data = df[df[\"MONTH_ID\"] == int(month) - 1]\n",
    "  previous_motorcycle_sales = previous_month_data[previous_month_data[\"PRODUCTLINE\"] == \"Motorcycles\"][\"SALES\"].mean()\n",
    "  \n",
    "  print(previous_motorcycle_sales)\n",
    "  trend_message = \"\"\n",
    "  \n",
    "  if avg_motorcycle_sales > previous_motorcycle_sales:\n",
    "    trend_message = \"There's a potential upward trend in Motorcycle sales.\"\n",
    "  else:\n",
    "    trend_message = \"There's a potential downward trend in Motorcycle sales.\"\n",
    "\n",
    "  recommendation = trend_message \n",
    "\n",
    "  return jsonify({\"recommendation\": recommendation})\n",
    "\n",
    "if __name__ == \"__main__\":\n",
    "  app.run()"
   ]
  },
  {
   "cell_type": "code",
   "execution_count": 32,
   "metadata": {},
   "outputs": [
    {
     "name": "stdout",
     "output_type": "stream",
     "text": [
      "Classic Cars\n"
     ]
    }
   ],
   "source": [
    "#SQL 1, What is my top earning sale item?\n",
    "top_earning_item = df.groupby('PRODUCTLINE')['SALES'].sum().sort_values(ascending=False).index[0]\n",
    "print(top_earning_item)"
   ]
  },
  {
   "cell_type": "code",
   "execution_count": 33,
   "metadata": {},
   "outputs": [
    {
     "name": "stdout",
     "output_type": "stream",
     "text": [
      "City with Best Sales: Madrid\n"
     ]
    }
   ],
   "source": [
    "#SQL 2, CITY with best sells?\n",
    "best_sales_city = df.groupby('CITY')['SALES'].sum().sort_values(ascending=False).index[0]\n",
    "print(f\"City with Best Sales: {best_sales_city}\")"
   ]
  },
  {
   "cell_type": "code",
   "execution_count": 51,
   "metadata": {},
   "outputs": [
    {
     "name": "stdout",
     "output_type": "stream",
     "text": [
      "Top 5 Products (Q4 2003, Shipped, Min 40 Units): ['Classic Cars', 'Vintage Cars', 'Trucks and Buses', 'Motorcycles', 'Planes']\n"
     ]
    }
   ],
   "source": [
    "# SQL 3 Sales Performance Analysis\n",
    "df['ORDERDATE'] = pd.to_datetime(df['ORDERDATE'])\n",
    "filtered_df = df[(df['ORDERDATE'].dt.year == 2003) & (df['QUANTITYORDERED'] >= 40) & (df['STATUS'] == 'Shipped') & (df['ORDERDATE'].dt.quarter == 4)]\n",
    "top_products = filtered_df.groupby('PRODUCTLINE')['SALES'].sum().sort_values(ascending=False).head(5).index.tolist()\n",
    "print(f\"Top 5 Products): {top_products}\")"
   ]
  },
  {
   "cell_type": "code",
   "execution_count": 80,
   "metadata": {},
   "outputs": [
    {
     "name": "stdout",
     "output_type": "stream",
     "text": [
      "Customers (3+ orders > $5000, USA/France):\n",
      "                      CUSTOMERNAME  QUANTITYORDERED\n",
      "4         Corporate Gift Ideas Co.               49\n",
      "29            Technics Stores Inc.               37\n",
      "33         Classic Gift Ideas, Inc               23\n",
      "34          Saveley & Henriot, Co.               42\n",
      "57               Toys4GrownUps.com               37\n",
      "...                            ...              ...\n",
      "1977  Online Diecast Creations Co.               45\n",
      "2047          Classic Legends Inc.               44\n",
      "2079       Classic Gift Ideas, Inc               47\n",
      "2380            Muscle Machine Inc               46\n",
      "2386                 Mini Classics               49\n",
      "\n",
      "[92 rows x 2 columns]\n"
     ]
    }
   ],
   "source": [
    "# SQL 4 Customer Segmentation Query\n",
    "filtered_df = df[(df['ORDERDATE'].dt.year == 2003) & (df['SALES'] > 5000) & (df['QUANTITYORDERED'] > 3) & (df['COUNTRY'].isin(['USA', 'France']))]\n",
    "print(\"Customers:\")\n",
    "print(filtered_df[['CUSTOMERNAME', 'QUANTITYORDERED']])\n"
   ]
  },
  {
   "cell_type": "code",
   "execution_count": 113,
   "metadata": {},
   "outputs": [
    {
     "name": "stdout",
     "output_type": "stream",
     "text": [
      "Month with Highest Avg Order Quantity (index 1-12 = jan-dec): ORDERDATE\n",
      "1     31.520000\n",
      "2     33.280000\n",
      "3     35.645161\n",
      "4     34.500000\n",
      "5     34.142857\n",
      "6     35.900000\n",
      "7     35.028571\n",
      "8     34.829268\n",
      "9     32.666667\n",
      "10    35.170000\n",
      "11    34.401070\n",
      "12    36.437500\n",
      "Name: QUANTITYORDERED, dtype: float64\n"
     ]
    }
   ],
   "source": [
    "# SQL 5 Product Demand Fluctuation\n",
    "filtered_df = df[(df['ORDERDATE'].dt.year == 2003) & (df['PRICEEACH'] > 80) & (df['SALES'] > 10)]\n",
    "if(len(filtered_df)):\n",
    "    monthly_avg_quantity = filtered_df.groupby([df['ORDERDATE'].dt.month])['QUANTITYORDERED'].mean()\n",
    "    highest_demand_month = monthly_avg_quantity\n",
    "    print(f\"Month with Highest Avg Order Quantity (index 1-12 = jan-dec): {highest_demand_month}\")\n",
    "else:\n",
    "    print(f\"No results found\")"
   ]
  },
  {
   "cell_type": "code",
   "execution_count": 125,
   "metadata": {},
   "outputs": [
    {
     "name": "stdout",
     "output_type": "stream",
     "text": [
      "Average Order Value Comparison:\n",
      "3353.742\n",
      "3442.921717791411\n"
     ]
    }
   ],
   "source": [
    "#SQL 6, regional state comparison\n",
    "filtered_df = df[(df['ORDERDATE'].dt.year == 2003) & (df['STATUS'] == 'Shipped') & (df['QUANTITYORDERED'] >= 20)]\n",
    "\n",
    "state1_avg_order_value = filtered_df[filtered_df['STATE'] == 'NSW']['SALES'].mean()\n",
    "state2_avg_order_value = filtered_df[filtered_df['STATE'] == 'CA']['SALES'].mean()\n",
    "\n",
    "print(f\"Average Order Value Comparison:\")\n",
    "print(state1_avg_order_value)\n",
    "print(state2_avg_order_value)\n"
   ]
  },
  {
   "cell_type": "code",
   "execution_count": 145,
   "metadata": {},
   "outputs": [
    {
     "name": "stdout",
     "output_type": "stream",
     "text": [
      "    COUNTRY  QUANTITYORDERED\n",
      "680     USA               50\n"
     ]
    },
    {
     "name": "stderr",
     "output_type": "stream",
     "text": [
      "C:\\Users\\Admin\\AppData\\Local\\Temp\\ipykernel_1160\\2895945094.py:6: UserWarning: Boolean Series key will be reindexed to match DataFrame index.\n",
      "  country_shipped_fast = filtered_df[(filtered_df['STATUS'] == 'Shipped') & (df['ORDERDATE'].dt.dayofyear <= 30)]\n"
     ]
    }
   ],
   "source": [
    "#SQL 7: Order Fulfillment Efficiency: For orders placed in the first half of 2003, \n",
    "# find out which country had the highest proportion of orders shipped within 30 days of order placement, but only include countries with more than 50 total orders. \n",
    "\n",
    "filtered_df = df[(df['ORDERDATE'].dt.year == 2003) & (df['ORDERDATE'].dt.month <= 6)]\n",
    "\n",
    "country_shipped_fast = filtered_df[(filtered_df['STATUS'] == 'Shipped') & (df['ORDERDATE'].dt.dayofyear <= 30)]\n",
    "answer = country_shipped_fast[(country_shipped_fast['QUANTITYORDERED'] >= 50)]\n",
    "print(answer[['COUNTRY', 'QUANTITYORDERED']])\n",
    "\n",
    "\n"
   ]
  },
  {
   "cell_type": "code",
   "execution_count": null,
   "metadata": {},
   "outputs": [],
   "source": [
    "#SQL 8:\n"
   ]
  }
 ],
 "metadata": {
  "kernelspec": {
   "display_name": "Python 3",
   "language": "python",
   "name": "python3"
  },
  "language_info": {
   "codemirror_mode": {
    "name": "ipython",
    "version": 3
   },
   "file_extension": ".py",
   "mimetype": "text/x-python",
   "name": "python",
   "nbconvert_exporter": "python",
   "pygments_lexer": "ipython3",
   "version": "3.12.2"
  }
 },
 "nbformat": 4,
 "nbformat_minor": 2
}
